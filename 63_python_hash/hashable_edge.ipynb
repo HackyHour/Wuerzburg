{
 "cells": [
  {
   "cell_type": "markdown",
   "id": "eed149d4-dfea-40b0-8ee1-9f7002e54307",
   "metadata": {},
   "source": [
    "# Hashable Types in Python\n",
    "\n",
    "Problem from the wue-RSE discord channel:\n",
    "\n",
    ">>\n",
    "Das Problem was mir immer wieder begegnet ist, dass \"list\" und \"numpy.array\" nicht hashable sind und man sie damit nicht in einem \"set\" oder \"dict\" verwenden kann (und listen von listen oder arrays von arrays schon gleich gar nicht); \"tuple\" hingegen funktioniert, weil es ein \"immutable\" Datentyp ist. \n",
    "Jetzt dachte ich das zu umgehen, indem ich eine eigene Klasse schreibe, mit Gleichheitsoperator usw., aber das klappt auch nicht:\n",
    "\n",
    "```python\n",
    "class Edge:\n",
    "    def __init__(self, vertex1, vertex2):\n",
    "        self._v1 = vertex1\n",
    "        self._v2 = vertex2\n",
    "        self._edge = [self._v1, self._v2]\n",
    "    \n",
    "    def __eq__(self, other):       \n",
    "        if np.all(self._v1 == other._v1) and np.all(self._v2 == other._v2):\n",
    "            return True\n",
    "        elif np.all(self._v2 == other._v1) and np.all(self._v1 == other._v2):\n",
    "            return True\n",
    "        else:\n",
    "            return False\n",
    "        \n",
    "    def __hash__(self):\n",
    "        return hash(self._edge)\n",
    "    \n",
    "    def __iter__(self):\n",
    "        return iter(self._edge)\n",
    "    \n",
    "    def __getitem__(self, key):\n",
    "        try:\n",
    "            return self._edge[key]\n",
    "        except IndexError:\n",
    "            raise Exception(\"Error!\")\n",
    "```\n",
    "\n",
    "Lange Rede kurzer Sinn: Irgendwie muss es doch möglich sein, komplexere Datentypen in ein \"set()\" oder als key in \"dict()\" reinzukriegen ... "
   ]
  },
  {
   "cell_type": "code",
   "execution_count": 2,
   "id": "354c4ff8-4fb2-40f0-89a7-d907c0b88d58",
   "metadata": {},
   "outputs": [],
   "source": [
    "class Edge:\n",
    "    def __init__(self, vertex1, vertex2):\n",
    "        self._v1 = vertex1\n",
    "        self._v2 = vertex2\n",
    "        self._edge = [self._v1, self._v2]\n",
    "    def __hash__(self):\n",
    "        return hash(repr(self))\n",
    "    def __eq__(self, other):\n",
    "        return hash(self)==hash(other)\n",
    "    def __repr__(self):\n",
    "        return f\"({self._v1}, {self._v2})\""
   ]
  },
  {
   "cell_type": "code",
   "execution_count": 7,
   "id": "b3879087-f991-496c-ae6c-1804018b16fd",
   "metadata": {},
   "outputs": [],
   "source": [
    "e1 = Edge(1,2)\n",
    "e2 = Edge(-1,5)\n",
    "e3 = Edge(1,2)\n",
    "e4 = Edge(-1,5)"
   ]
  },
  {
   "cell_type": "code",
   "execution_count": 9,
   "id": "6c7b68ec-4f9a-4293-a2d1-96dfd7823af2",
   "metadata": {},
   "outputs": [
    {
     "data": {
      "text/plain": [
       "{(-1, 5), (1, 2)}"
      ]
     },
     "execution_count": 9,
     "metadata": {},
     "output_type": "execute_result"
    }
   ],
   "source": [
    "my_set = set([e1,e2,e3])\n",
    "my_set"
   ]
  },
  {
   "cell_type": "code",
   "execution_count": 10,
   "id": "a4eaa1ec-fe1f-454d-8171-659c20e72164",
   "metadata": {},
   "outputs": [
    {
     "data": {
      "text/plain": [
       "True"
      ]
     },
     "execution_count": 10,
     "metadata": {},
     "output_type": "execute_result"
    }
   ],
   "source": [
    "e4 in my_set"
   ]
  },
  {
   "cell_type": "code",
   "execution_count": 11,
   "id": "c2e05956-278d-4009-871f-954acaa63c5f",
   "metadata": {},
   "outputs": [],
   "source": [
    "my_dict = {e1: \"erste\", e2: \"zweite\"}"
   ]
  },
  {
   "cell_type": "code",
   "execution_count": 12,
   "id": "8a93cb9b-1ec1-4652-a9f6-acfca59b6a81",
   "metadata": {},
   "outputs": [
    {
     "data": {
      "text/plain": [
       "'erste'"
      ]
     },
     "execution_count": 12,
     "metadata": {},
     "output_type": "execute_result"
    }
   ],
   "source": [
    "my_dict[e3]"
   ]
  }
 ],
 "metadata": {
  "kernelspec": {
   "display_name": "Python 3",
   "language": "python",
   "name": "python3"
  },
  "language_info": {
   "codemirror_mode": {
    "name": "ipython",
    "version": 3
   },
   "file_extension": ".py",
   "mimetype": "text/x-python",
   "name": "python",
   "nbconvert_exporter": "python",
   "pygments_lexer": "ipython3",
   "version": "3.8.5"
  }
 },
 "nbformat": 4,
 "nbformat_minor": 5
}

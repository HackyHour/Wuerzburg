library(tidyverse)


ergebnisse <- read_tsv("ergebnisse.dat")


ergebnisse


ergebnisse %>% count(tore1 == tore2) %>% mutate(frac=n/sum(n))


ergebnisse %>% count(tore1, tore2, sort=TRUE)


tabelle <- read_tsv("tabelle.dat")
tabelle


theme_set(theme_light())


options(repr.plot.res=200)


library(ggrepel)


tabelle %>%
    group_by(team_nr) %>%
    mutate(cumpunkte = cumsum(punkte), team_nr=as.factor(team_nr)) %>%
    ggplot(aes(spieltag,cumpunkte,color=team_nr)) +
        geom_line(linewidth=1) +
        #geom_text_repel(mapping=aes(label=team_nr)) +
        NULL


sign(c(-2,2,0,1,0))


t_fixed_strategy <- function(score1, score2, s1, s2){
    score <- if_else(score1==s1 & score2==s2, 3,
                     if_else(score1-score2 == s1-s2, 2,
                             if_else(sign(score1-score2)==sign(s1-s2), 1, 0)))
    return(sum(score))
}


# we expect 6
t_fixed_strategy(c(2,3,0,1,3), c(1,0,0,1,2), 2, 1)


t_fixed_strategy(ergebnisse$tore1, ergebnisse$tore2, 2, 1)


t_fixed_strategy(ergebnisse$tore1, ergebnisse$tore2, 1, 2)


t_fixed_strategy(ergebnisse$tore1, ergebnisse$tore2, 1, 1)


for(i in 0:3){
    for(j in 0:3){
        print(paste(i,j,t_fixed_strategy(ergebnisse$tore1, ergebnisse$tore2, i, j)))
    }
}


ergebnisse %>%
    mutate(wer = if_else(tore1==tore2, "unentschieden", if_else(tore1>tore2, "heim", "auswärts"))) %>%
    count(wer)


team <- read_tsv("teams.dat")


team <- team %>%
    select(team_nr, team_name) %>%
    mutate(prev_season_points = c(77,42,46,38,58,45,55,46,18,33,28,42,52,28,57,69,64,33,18,42))
team


cpunkte <- tabelle %>%
    group_by(team_nr) %>%
    mutate(cumpunkte = cumsum(punkte)) %>%
    select(team_nr, spieltag, cumpunkte) %>%
    group_by(team_nr) %>%
    mutate(cumpunkte=lag(cumpunkte,default=0))


cpunkte <- cpunkte %>%
    filter(spieltag!=1) %>%
    bind_rows(team %>% transmute(team_nr, spieltag=1, cumpunkte=prev_season_points)) %>%
    arrange(team_nr, spieltag)


ergebnisse


st <- read_tsv("spieltage.dat")
st


hinrunde <- st %>% select(spieltag, sp_nr, team1, team2, datum=datum1)
rückrunde <- st %>%
    mutate(spieltag = spieltag + 17) %>%
    select(spieltag, sp_nr, team1=team2, team2=team1, datum=datum2)
spieltage <- bind_rows(hinrunde, rückrunde)
spieltage


enriched_ergebnisse <- ergebnisse %>%
    left_join(spieltage, by=c("spieltag", "sp_nr")) %>%
    left_join(cpunkte, by=c("spieltag"="spieltag", "team1"="team_nr")) %>%
    left_join(cpunkte, by=c("spieltag"="spieltag", "team2"="team_nr")) %>%
    rename(cpunkte1 = cumpunkte.x, cpunkte2 = cumpunkte.y) %>%
    mutate(cpunkte_diff = cpunkte1 - cpunkte2)
enriched_ergebnisse


t_winner_strategy <- function(score1, score2, cdiff, s1, s2){
    tipp1 <- if_else(cdiff<0, s2, s1)
    tipp2<- if_else(cdiff<0, s1, s2)
    score <- if_else(score1==tipp1 & score2==tipp2, 3,
                     if_else(score1-score2 == tipp1-tipp2, 2,
                             if_else(sign(score1-score2)==sign(tipp1-tipp2), 1, 0)))
    return(sum(score))
}


# we expect 4
t_winner_strategy(c(2,3,0,1,3), c(1,0,0,1,2), c(1,0,-2,3,-17), 2, 1)


t_winner_strategy(
    enriched_ergebnisse$tore1,
    enriched_ergebnisse$tore2,
    enriched_ergebnisse$cpunkte_diff,
    2,
    1)


t_winner_tie_strategy <- function(score1, score2, cdiff, s1, s2){
    tipp1 <- if_else(cdiff<=0, s2, s1)
    tipp2<- if_else(cdiff<0, s1, s2)
    score <- if_else(score1==tipp1 & score2==tipp2, 3,
                     if_else(score1-score2 == tipp1-tipp2, 2,
                             if_else(sign(score1-score2)==sign(tipp1-tipp2), 1, 0)))
    return(sum(score))
}



t_winner_tie_strategy(
    enriched_ergebnisse$tore1,
    enriched_ergebnisse$tore2,
    enriched_ergebnisse$cpunkte_diff,
    2,
    1)


enriched_ergebnisse %>% count(cpunkte_diff, sort=TRUE)


enriched_ergebnisse %>% mutate(ncd = cpunkte_diff/spieltag)


enriched_ergebnisse$cpunkte_diff %>% sum


tipps <- read_tsv("tipps.dat")


tipps %>% count(tore1, tore2, sort=T)


tipps %>% mutate(absdiff = abs(tore1-tore2)) %>% count(absdiff, sort=T)


enriched_ergebnisse %>% filter(spieltag==20, sp_nr==3)


tipps %>% inner_join(
    enriched_ergebnisse %>% select(spieltag, sp_nr, tore1, tore2)) %>%
    count(spieltag, sp_nr, sort=T)


enriched_tipps <- tipps %>% left_join(
    enriched_ergebnisse %>% select(spieltag, sp_nr, tore1, tore2), by=c("spieltag","sp_nr"))
enriched_tipps


enriched_ergebnisse %>% filter(spieltag==2, sp_nr==9)


enriched_tipps %>%
    filter(sign(tore1.x-tore2.x)==sign(tore1.y-tore2.y)) %>%
    count(spieltag,sp_nr, sort=T)

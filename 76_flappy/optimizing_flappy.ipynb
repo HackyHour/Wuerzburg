{
 "cells": [
  {
   "cell_type": "code",
   "execution_count": 158,
   "id": "fad97e99-190e-4a14-90b9-bf6c10adb20a",
   "metadata": {},
   "outputs": [],
   "source": [
    "from scipy.optimize import minimize"
   ]
  },
  {
   "cell_type": "code",
   "execution_count": 106,
   "id": "8ae160b0-1d76-4778-9ed3-7b3f463f6a1d",
   "metadata": {},
   "outputs": [],
   "source": [
    "import time\n",
    "import random\n",
    "import flappy_bird_gym\n",
    "from matplotlib import pyplot as plt\n",
    "env = flappy_bird_gym.make(\"FlappyBird-v0\")\n",
    "random.seed(42)\n",
    "#print(random.getstate())\n",
    "#env.reset()\n",
    "#temp=env.seed([1,2,3,4,5,6,7,8,9])"
   ]
  },
  {
   "cell_type": "code",
   "execution_count": 173,
   "id": "1bb63977-6e6a-46e1-904e-9f62180a6874",
   "metadata": {},
   "outputs": [
    {
     "data": {
      "text/plain": [
       "140.0"
      ]
     },
     "execution_count": 173,
     "metadata": {},
     "output_type": "execute_result"
    }
   ],
   "source": [
    "1/0.007142857142857143"
   ]
  },
  {
   "cell_type": "code",
   "execution_count": 102,
   "id": "5b11a1bc-9cb6-4daf-8efa-8c2728ef4c7a",
   "metadata": {},
   "outputs": [],
   "source": [
    "import numpy as np"
   ]
  },
  {
   "cell_type": "code",
   "execution_count": 181,
   "id": "7f285f6b-47b3-445e-ad03-a4052095db2c",
   "metadata": {},
   "outputs": [
    {
     "data": {
      "text/plain": [
       " final_simplex: (array([[ 0.2   , -0.0525, -0.03  ],\n",
       "       [ 0.2   , -0.0525, -0.03  ],\n",
       "       [ 0.2   , -0.0525, -0.03  ],\n",
       "       [ 0.2   , -0.0525, -0.03  ]]), array([-140.,  -11.,  -11.,  -11.]))\n",
       "           fun: -140.0\n",
       "       message: 'Maximum number of iterations has been exceeded.'\n",
       "          nfev: 29996\n",
       "           nit: 6000\n",
       "        status: 2\n",
       "       success: False\n",
       "             x: array([ 0.2   , -0.0525, -0.03  ])"
      ]
     },
     "execution_count": 181,
     "metadata": {},
     "output_type": "execute_result"
    }
   ],
   "source": [
    "minimize(\n",
    "    run,\n",
    "    np.array([0.2, -0.05, -0.03]),\n",
    "    method='Nelder-Mead',\n",
    "    options={'maxiter': 6000}\n",
    ")"
   ]
  },
  {
   "cell_type": "code",
   "execution_count": 180,
   "id": "05a202d7-c4b7-4f62-9cb9-5a8ee3defd94",
   "metadata": {},
   "outputs": [],
   "source": [
    "def run(pars, fps=np.inf):\n",
    "    a, b, c = pars\n",
    "    obs = env.reset()\n",
    "    random.seed(42)\n",
    "    #env.seed([42])\n",
    "    freq = 5\n",
    "    counter = 0\n",
    "    coords = []\n",
    "    while True:\n",
    "        counter += 1\n",
    "        # Next action:\n",
    "        # (feed the observation to your agent here)\n",
    "        action = 0\n",
    "        # env.action_space.sample() for a random action # 0 = nothing, 1 = flap\n",
    "        if obs[0] < a:\n",
    "            if obs[1] < b:\n",
    "                action = 1\n",
    "        else:\n",
    "            if obs[1] < c:\n",
    "                action = 1\n",
    "\n",
    "        # Processing:\n",
    "        obs_old = obs\n",
    "        obs, reward, done, info = env.step(action)\n",
    "        v_x = obs[0]-obs_old[0]\n",
    "        v_y = obs[1]-obs_old[1]\n",
    "        #print(obs)\n",
    "        #if v_x > 0:\n",
    "        #    y_off = obs_old[1]\n",
    "        #else:\n",
    "        coords.append((*obs,action))\n",
    "\n",
    "        # Rendering the game:\n",
    "        # (remove this two lines during training)\n",
    "        # env.render()\n",
    "        if fps is not None:\n",
    "            time.sleep(1 / fps)  # FPS\n",
    "\n",
    "        # Checking if the player is still alive\n",
    "        if info['score'] > 1000:\n",
    "            print(pars)\n",
    "        if done:\n",
    "            env.close()\n",
    "            return -info['score']\n"
   ]
  },
  {
   "cell_type": "code",
   "execution_count": 160,
   "id": "421584fd-bfaf-4627-be3e-2d846180f11b",
   "metadata": {},
   "outputs": [
    {
     "data": {
      "text/plain": [
       "20"
      ]
     },
     "execution_count": 160,
     "metadata": {},
     "output_type": "execute_result"
    }
   ],
   "source": [
    "run()"
   ]
  },
  {
   "cell_type": "code",
   "execution_count": 136,
   "id": "9a419973-5d69-4131-825c-86b04a8f5923",
   "metadata": {
    "jupyter": {
     "source_hidden": true
    },
    "tags": []
   },
   "outputs": [],
   "source": [
    "c_array_flap = c_array\n",
    "d_y_flap = c_array"
   ]
  },
  {
   "cell_type": "code",
   "execution_count": 154,
   "id": "f506835c-426d-43ca-acbd-51060a6b69d5",
   "metadata": {
    "collapsed": true,
    "jupyter": {
     "outputs_hidden": true
    },
    "tags": []
   },
   "outputs": [
    {
     "data": {
      "text/plain": [
       "array([[ 1.64236111, -0.17578125,  0.        ],\n",
       "       [ 1.62847222, -0.16210938,  0.        ],\n",
       "       [ 1.61458333, -0.15039062,  0.        ],\n",
       "       [ 1.60069444, -0.140625  ,  0.        ],\n",
       "       [ 1.58680556, -0.1328125 ,  0.        ],\n",
       "       [ 1.57291667, -0.12695312,  0.        ],\n",
       "       [ 1.55902778, -0.12304688,  0.        ],\n",
       "       [ 1.54513889, -0.12109375,  0.        ],\n",
       "       [ 1.53125   , -0.12109375,  0.        ],\n",
       "       [ 1.51736111, -0.12304688,  0.        ],\n",
       "       [ 1.50347222, -0.12695312,  0.        ],\n",
       "       [ 1.48958333, -0.1328125 ,  0.        ],\n",
       "       [ 1.47569444, -0.140625  ,  0.        ],\n",
       "       [ 1.46180556, -0.15039062,  0.        ],\n",
       "       [ 1.44791667, -0.16210938,  0.        ],\n",
       "       [ 1.43402778, -0.17578125,  0.        ],\n",
       "       [ 1.42013889, -0.19140625,  0.        ],\n",
       "       [ 1.40625   , -0.20898438,  0.        ],\n",
       "       [ 1.39236111, -0.22851562,  0.        ],\n",
       "       [ 1.37847222, -0.24804688,  0.        ],\n",
       "       [ 1.36458333, -0.26757812,  0.        ],\n",
       "       [ 1.35069444, -0.28710938,  0.        ],\n",
       "       [ 1.33680556, -0.30664062,  0.        ],\n",
       "       [ 1.32291667, -0.32617188,  0.        ],\n",
       "       [ 1.30902778, -0.34570312,  0.        ],\n",
       "       [ 1.29513889, -0.36523438,  0.        ],\n",
       "       [ 1.28125   , -0.38476562,  0.        ],\n",
       "       [ 1.26736111, -0.40429688,  0.        ],\n",
       "       [ 1.25347222, -0.42382812,  0.        ],\n",
       "       [ 1.23958333, -0.44335938,  0.        ],\n",
       "       [ 1.22569444, -0.45796875,  0.        ],\n",
       "       [ 1.22569444, -0.45796875,  0.        ]])"
      ]
     },
     "execution_count": 154,
     "metadata": {},
     "output_type": "execute_result"
    }
   ],
   "source": [
    "c_array_noflap"
   ]
  },
  {
   "cell_type": "code",
   "execution_count": 153,
   "id": "78a88f9e-e556-4b6e-a13a-27e062ab5e23",
   "metadata": {
    "collapsed": true,
    "jupyter": {
     "outputs_hidden": true
    },
    "tags": []
   },
   "outputs": [
    {
     "data": {
      "text/plain": [
       "array([ 0.01367188,  0.01171875,  0.00976562,  0.0078125 ,  0.00585938,\n",
       "        0.00390625,  0.00195312,  0.        , -0.00195312, -0.00390625,\n",
       "       -0.00585938, -0.0078125 , -0.00976562, -0.01171875, -0.01367188,\n",
       "       -0.015625  , -0.01757812, -0.01953125, -0.01953125, -0.01953125,\n",
       "       -0.01953125, -0.01953125, -0.01953125, -0.01953125, -0.01953125,\n",
       "       -0.01953125, -0.01953125, -0.01953125, -0.01953125, -0.01460938,\n",
       "        0.        ])"
      ]
     },
     "execution_count": 153,
     "metadata": {},
     "output_type": "execute_result"
    }
   ],
   "source": [
    "d_y_noflap"
   ]
  },
  {
   "cell_type": "code",
   "execution_count": 143,
   "id": "fa9bb872-e3f8-41ae-bf48-74d0d2439f61",
   "metadata": {
    "collapsed": true,
    "jupyter": {
     "outputs_hidden": true
    },
    "tags": []
   },
   "outputs": [
    {
     "data": {
      "text/plain": [
       "array([[ 1.64236111, -0.17382812,  1.        ],\n",
       "       [ 1.62847222, -0.15625   ,  1.        ],\n",
       "       [ 1.61458333, -0.13867188,  1.        ],\n",
       "       [ 1.60069444, -0.12109375,  1.        ],\n",
       "       [ 1.58680556, -0.10351562,  1.        ],\n",
       "       [ 1.57291667, -0.0859375 ,  1.        ],\n",
       "       [ 1.55902778, -0.06835938,  1.        ],\n",
       "       [ 1.54513889, -0.05078125,  1.        ],\n",
       "       [ 1.53125   , -0.03320312,  1.        ],\n",
       "       [ 1.51736111, -0.015625  ,  1.        ],\n",
       "       [ 1.50347222,  0.00195312,  1.        ],\n",
       "       [ 1.48958333,  0.01953125,  1.        ],\n",
       "       [ 1.47569444,  0.03710938,  1.        ],\n",
       "       [ 1.46180556,  0.0546875 ,  1.        ],\n",
       "       [ 1.44791667,  0.07226562,  1.        ],\n",
       "       [ 1.43402778,  0.08984375,  1.        ],\n",
       "       [ 1.42013889,  0.10742188,  1.        ],\n",
       "       [ 1.40625   ,  0.125     ,  1.        ],\n",
       "       [ 1.39236111,  0.14257812,  1.        ],\n",
       "       [ 1.37847222,  0.16015625,  1.        ],\n",
       "       [ 1.36458333,  0.17773438,  1.        ],\n",
       "       [ 1.35069444,  0.1953125 ,  1.        ],\n",
       "       [ 1.33680556,  0.21289062,  1.        ],\n",
       "       [ 1.32291667,  0.23046875,  1.        ],\n",
       "       [ 1.30902778,  0.24804688,  1.        ],\n",
       "       [ 1.29513889,  0.265625  ,  1.        ],\n",
       "       [ 1.28125   ,  0.28320312,  1.        ],\n",
       "       [ 1.26736111,  0.30078125,  1.        ],\n",
       "       [ 1.25347222,  0.31835938,  1.        ],\n",
       "       [ 1.23958333,  0.3359375 ,  1.        ],\n",
       "       [ 1.22569444,  0.35351562,  1.        ],\n",
       "       [ 1.21180556,  0.37109375,  1.        ],\n",
       "       [ 1.19791667,  0.38867188,  1.        ],\n",
       "       [ 1.18402778,  0.40429688,  1.        ],\n",
       "       [ 1.17013889,  0.41796875,  1.        ],\n",
       "       [ 1.15625   ,  0.4296875 ,  1.        ],\n",
       "       [ 1.14236111,  0.43945312,  1.        ],\n",
       "       [ 1.12847222,  0.44726562,  1.        ],\n",
       "       [ 1.11458333,  0.453125  ,  1.        ],\n",
       "       [ 1.10069444,  0.45703125,  1.        ],\n",
       "       [ 1.08680556,  0.45898438,  1.        ],\n",
       "       [ 1.07291667,  0.45898438,  1.        ],\n",
       "       [ 1.05902778,  0.45703125,  1.        ],\n",
       "       [ 1.04513889,  0.453125  ,  1.        ],\n",
       "       [ 1.03125   ,  0.44726562,  1.        ],\n",
       "       [ 1.01736111,  0.43945312,  1.        ],\n",
       "       [ 1.00347222,  0.4296875 ,  1.        ],\n",
       "       [ 0.98958333,  0.41796875,  1.        ],\n",
       "       [ 0.97569444,  0.40429688,  1.        ],\n",
       "       [ 0.96180556,  0.38867188,  1.        ],\n",
       "       [ 0.94791667,  0.37109375,  1.        ],\n",
       "       [ 0.93402778,  0.38867188,  1.        ],\n",
       "       [ 0.92013889,  0.40429688,  1.        ],\n",
       "       [ 0.90625   ,  0.41796875,  1.        ],\n",
       "       [ 0.89236111,  0.4296875 ,  1.        ],\n",
       "       [ 0.87847222,  0.43945312,  1.        ],\n",
       "       [ 0.86458333,  0.44726562,  1.        ],\n",
       "       [ 0.85069444,  0.453125  ,  1.        ],\n",
       "       [ 0.83680556,  0.45703125,  1.        ],\n",
       "       [ 0.82291667,  0.45898438,  1.        ],\n",
       "       [ 0.80902778,  0.45898438,  1.        ],\n",
       "       [ 0.79513889,  0.45703125,  1.        ],\n",
       "       [ 0.78125   ,  0.453125  ,  1.        ],\n",
       "       [ 0.76736111,  0.44726562,  1.        ],\n",
       "       [ 0.75347222,  0.43945312,  1.        ],\n",
       "       [ 0.73958333,  0.4296875 ,  1.        ],\n",
       "       [ 0.72569444,  0.41796875,  1.        ],\n",
       "       [ 0.71180556,  0.40429688,  1.        ],\n",
       "       [ 0.69791667,  0.38867188,  1.        ],\n",
       "       [ 0.68402778,  0.37109375,  1.        ],\n",
       "       [ 0.67013889,  0.38867188,  1.        ],\n",
       "       [ 0.65625   ,  0.40429688,  1.        ],\n",
       "       [ 0.64236111,  0.41796875,  1.        ],\n",
       "       [ 0.62847222,  0.4296875 ,  1.        ],\n",
       "       [ 0.61458333,  0.43945312,  1.        ],\n",
       "       [ 0.60069444,  0.44726562,  1.        ],\n",
       "       [ 0.58680556,  0.453125  ,  1.        ],\n",
       "       [ 0.57291667,  0.45703125,  1.        ],\n",
       "       [ 0.55902778,  0.45898438,  1.        ],\n",
       "       [ 0.54513889,  0.45898438,  1.        ],\n",
       "       [ 0.53125   ,  0.45703125,  1.        ],\n",
       "       [ 0.51736111,  0.453125  ,  1.        ],\n",
       "       [ 0.50347222,  0.44726562,  1.        ],\n",
       "       [ 0.48958333,  0.43945312,  1.        ],\n",
       "       [ 0.47569444,  0.4296875 ,  1.        ],\n",
       "       [ 0.46180556,  0.41796875,  1.        ],\n",
       "       [ 0.44791667,  0.40429688,  1.        ],\n",
       "       [ 0.43402778,  0.38867188,  1.        ],\n",
       "       [ 0.42013889,  0.37109375,  1.        ],\n",
       "       [ 0.40625   ,  0.38867188,  1.        ],\n",
       "       [ 0.39236111,  0.40429688,  1.        ],\n",
       "       [ 0.37847222,  0.41796875,  1.        ],\n",
       "       [ 0.36458333,  0.4296875 ,  1.        ],\n",
       "       [ 0.35069444,  0.43945312,  1.        ],\n",
       "       [ 0.33680556,  0.44726562,  1.        ],\n",
       "       [ 0.32291667,  0.453125  ,  1.        ],\n",
       "       [ 0.30902778,  0.45703125,  1.        ],\n",
       "       [ 0.29513889,  0.45898438,  1.        ],\n",
       "       [ 0.28125   ,  0.45898438,  1.        ],\n",
       "       [ 0.26736111,  0.45703125,  1.        ],\n",
       "       [ 0.26736111,  0.45703125,  1.        ]])"
      ]
     },
     "execution_count": 143,
     "metadata": {},
     "output_type": "execute_result"
    }
   ],
   "source": [
    "c_array_flap"
   ]
  },
  {
   "cell_type": "code",
   "execution_count": 144,
   "id": "23501371-97ee-4a10-8dba-9d0b19e7d5d8",
   "metadata": {
    "collapsed": true,
    "jupyter": {
     "outputs_hidden": true
    },
    "tags": []
   },
   "outputs": [
    {
     "data": {
      "text/plain": [
       "array([ 0.01757812,  0.01757812,  0.01757812,  0.01757812,  0.01757812,\n",
       "        0.01757812,  0.01757812,  0.01757812,  0.01757812,  0.01757812,\n",
       "        0.01757812,  0.01757812,  0.01757812,  0.01757812,  0.01757812,\n",
       "        0.01757812,  0.01757812,  0.01757812,  0.01757812,  0.01757812,\n",
       "        0.01757812,  0.01757812,  0.01757812,  0.01757812,  0.01757812,\n",
       "        0.01757812,  0.01757812,  0.01757812,  0.01757812,  0.01757812,\n",
       "        0.01757812,  0.01757812,  0.015625  ,  0.01367188,  0.01171875,\n",
       "        0.00976562,  0.0078125 ,  0.00585938,  0.00390625,  0.00195312,\n",
       "        0.        , -0.00195312, -0.00390625, -0.00585938, -0.0078125 ,\n",
       "       -0.00976562, -0.01171875, -0.01367188, -0.015625  , -0.01757812,\n",
       "        0.01757812,  0.015625  ,  0.01367188,  0.01171875,  0.00976562,\n",
       "        0.0078125 ,  0.00585938,  0.00390625,  0.00195312,  0.        ,\n",
       "       -0.00195312, -0.00390625, -0.00585938, -0.0078125 , -0.00976562,\n",
       "       -0.01171875, -0.01367188, -0.015625  , -0.01757812,  0.01757812,\n",
       "        0.015625  ,  0.01367188,  0.01171875,  0.00976562,  0.0078125 ,\n",
       "        0.00585938,  0.00390625,  0.00195312,  0.        , -0.00195312,\n",
       "       -0.00390625, -0.00585938, -0.0078125 , -0.00976562, -0.01171875,\n",
       "       -0.01367188, -0.015625  , -0.01757812,  0.01757812,  0.015625  ,\n",
       "        0.01367188,  0.01171875,  0.00976562,  0.0078125 ,  0.00585938,\n",
       "        0.00390625,  0.00195312,  0.        , -0.00195312,  0.        ])"
      ]
     },
     "execution_count": 144,
     "metadata": {},
     "output_type": "execute_result"
    }
   ],
   "source": [
    "d_y_flap"
   ]
  },
  {
   "cell_type": "code",
   "execution_count": 151,
   "id": "2013e8b8-98b9-4885-93a6-d7f33caec267",
   "metadata": {},
   "outputs": [],
   "source": [
    "c_array = np.array(coords)\n",
    "c_array_noflap = c_array\n",
    "d_y_noflap = - c_array[:-1,1] + c_array[1:,1]"
   ]
  },
  {
   "cell_type": "code",
   "execution_count": 152,
   "id": "49de5682-886d-4c6c-87d0-ec423ba9a473",
   "metadata": {},
   "outputs": [
    {
     "data": {
      "text/plain": [
       "<matplotlib.legend.Legend at 0x7f5dae764c40>"
      ]
     },
     "execution_count": 152,
     "metadata": {},
     "output_type": "execute_result"
    },
    {
     "data": {
      "image/png": "[encoded data removed]",
      "text/plain": [
       "<Figure size 432x288 with 3 Axes>"
      ]
     },
     "metadata": {
      "needs_background": "light"
     },
     "output_type": "display_data"
    }
   ],
   "source": [
    "fig, axs = plt.subplots(3, 1, sharex=True)\n",
    "axs[0].plot(c_array_noflap[:,0], label='x')\n",
    "axs[0].legend()\n",
    "axs[1].plot(c_array_noflap[:,1], label= 'y')\n",
    "axs[1].legend()\n",
    "axs[2].plot(d_y_noflap, label= 'dy')\n",
    "#plt.xlim(700,840)\n",
    "plt.legend()"
   ]
  },
  {
   "cell_type": "code",
   "execution_count": 146,
   "id": "99c6a090-6e33-4c7b-b3ed-d722b55208b3",
   "metadata": {},
   "outputs": [
    {
     "name": "stdout",
     "output_type": "stream",
     "text": [
      "None\n",
      "{'score': 0} 32\n"
     ]
    }
   ],
   "source": [
    "print(temp)\n",
    "info, coords = run(fps=np.inf)\n",
    "#print(random.getstate())\n",
    "#env.close()\n",
    "print(info, len(coords))"
   ]
  },
  {
   "cell_type": "code",
   "execution_count": 161,
   "id": "7246bc32-2352-48b2-95b3-e7f3e6f5ec81",
   "metadata": {},
   "outputs": [],
   "source": [
    "env.close()"
   ]
  },
  {
   "cell_type": "code",
   "execution_count": 55,
   "id": "a6cf90d6-3bfd-49ef-bfc1-9149e0df1699",
   "metadata": {},
   "outputs": [],
   "source": [
    "l = [run()['score'] for i in range(100)]"
   ]
  },
  {
   "cell_type": "code",
   "execution_count": 57,
   "id": "c2b1cf60-c1bb-4f7d-a409-7a8fbebc5e2e",
   "metadata": {},
   "outputs": [],
   "source": [
    "from tqdm.notebook import tqdm\n",
    "from matplotlib import pyplot as plt"
   ]
  },
  {
   "cell_type": "code",
   "execution_count": 123,
   "id": "02e31318-4f03-4b4b-ad79-71e557df72fc",
   "metadata": {},
   "outputs": [
    {
     "data": {
      "application/vnd.jupyter.widget-view+json": {
       "model_id": "71f64fabf4d74685944f9ebc51e4223c",
       "version_major": 2,
       "version_minor": 0
      },
      "text/plain": [
       "  0%|          | 0/50 [00:00<?, ?it/s]"
      ]
     },
     "metadata": {},
     "output_type": "display_data"
    }
   ],
   "source": [
    "l2 = [run(fps=600)['score'] for i in tqdm(range(50))]"
   ]
  },
  {
   "cell_type": "code",
   "execution_count": 117,
   "id": "d1e62f61-005e-4c59-949d-2b2702eda6fb",
   "metadata": {
    "collapsed": true,
    "jupyter": {
     "outputs_hidden": true
    },
    "tags": []
   },
   "outputs": [
    {
     "name": "stdout",
     "output_type": "stream",
     "text": [
      "Help on function hist in module matplotlib.pyplot:\n",
      "\n",
      "hist(x, bins=None, range=None, density=False, weights=None, cumulative=False, bottom=None, histtype='bar', align='mid', orientation='vertical', rwidth=None, log=False, color=None, label=None, stacked=False, *, data=None, **kwargs)\n",
      "    Plot a histogram.\n",
      "    \n",
      "    Compute and draw the histogram of *x*.  The return value is a tuple\n",
      "    (*n*, *bins*, *patches*) or ([*n0*, *n1*, ...], *bins*, [*patches0*,\n",
      "    *patches1*, ...]) if the input contains multiple data.  See the\n",
      "    documentation of the *weights* parameter to draw a histogram of\n",
      "    already-binned data.\n",
      "    \n",
      "    Multiple data can be provided via *x* as a list of datasets\n",
      "    of potentially different length ([*x0*, *x1*, ...]), or as\n",
      "    a 2D ndarray in which each column is a dataset.  Note that\n",
      "    the ndarray form is transposed relative to the list form.\n",
      "    \n",
      "    Masked arrays are not supported.\n",
      "    \n",
      "    The *bins*, *range*, *weights*, and *density* parameters behave as in\n",
      "    `numpy.histogram`.\n",
      "    \n",
      "    Parameters\n",
      "    ----------\n",
      "    x : (n,) array or sequence of (n,) arrays\n",
      "        Input values, this takes either a single array or a sequence of\n",
      "        arrays which are not required to be of the same length.\n",
      "    \n",
      "    bins : int or sequence or str, default: :rc:`hist.bins`\n",
      "        If *bins* is an integer, it defines the number of equal-width bins\n",
      "        in the range.\n",
      "    \n",
      "        If *bins* is a sequence, it defines the bin edges, including the\n",
      "        left edge of the first bin and the right edge of the last bin;\n",
      "        in this case, bins may be unequally spaced.  All but the last\n",
      "        (righthand-most) bin is half-open.  In other words, if *bins* is::\n",
      "    \n",
      "            [1, 2, 3, 4]\n",
      "    \n",
      "        then the first bin is ``[1, 2)`` (including 1, but excluding 2) and\n",
      "        the second ``[2, 3)``.  The last bin, however, is ``[3, 4]``, which\n",
      "        *includes* 4.\n",
      "    \n",
      "        If *bins* is a string, it is one of the binning strategies\n",
      "        supported by `numpy.histogram_bin_edges`: 'auto', 'fd', 'doane',\n",
      "        'scott', 'stone', 'rice', 'sturges', or 'sqrt'.\n",
      "    \n",
      "    range : tuple or None, default: None\n",
      "        The lower and upper range of the bins. Lower and upper outliers\n",
      "        are ignored. If not provided, *range* is ``(x.min(), x.max())``.\n",
      "        Range has no effect if *bins* is a sequence.\n",
      "    \n",
      "        If *bins* is a sequence or *range* is specified, autoscaling\n",
      "        is based on the specified bin range instead of the\n",
      "        range of x.\n",
      "    \n",
      "    density : bool, default: False\n",
      "        If ``True``, draw and return a probability density: each bin\n",
      "        will display the bin's raw count divided by the total number of\n",
      "        counts *and the bin width*\n",
      "        (``density = counts / (sum(counts) * np.diff(bins))``),\n",
      "        so that the area under the histogram integrates to 1\n",
      "        (``np.sum(density * np.diff(bins)) == 1``).\n",
      "    \n",
      "        If *stacked* is also ``True``, the sum of the histograms is\n",
      "        normalized to 1.\n",
      "    \n",
      "    weights : (n,) array-like or None, default: None\n",
      "        An array of weights, of the same shape as *x*.  Each value in\n",
      "        *x* only contributes its associated weight towards the bin count\n",
      "        (instead of 1).  If *density* is ``True``, the weights are\n",
      "        normalized, so that the integral of the density over the range\n",
      "        remains 1.\n",
      "    \n",
      "        This parameter can be used to draw a histogram of data that has\n",
      "        already been binned, e.g. using `numpy.histogram` (by treating each\n",
      "        bin as a single point with a weight equal to its count) ::\n",
      "    \n",
      "            counts, bins = np.histogram(data)\n",
      "            plt.hist(bins[:-1], bins, weights=counts)\n",
      "    \n",
      "        (or you may alternatively use `~.bar()`).\n",
      "    \n",
      "    cumulative : bool or -1, default: False\n",
      "        If ``True``, then a histogram is computed where each bin gives the\n",
      "        counts in that bin plus all bins for smaller values. The last bin\n",
      "        gives the total number of datapoints.\n",
      "    \n",
      "        If *density* is also ``True`` then the histogram is normalized such\n",
      "        that the last bin equals 1.\n",
      "    \n",
      "        If *cumulative* is a number less than 0 (e.g., -1), the direction\n",
      "        of accumulation is reversed.  In this case, if *density* is also\n",
      "        ``True``, then the histogram is normalized such that the first bin\n",
      "        equals 1.\n",
      "    \n",
      "    bottom : array-like, scalar, or None, default: None\n",
      "        Location of the bottom of each bin, ie. bins are drawn from\n",
      "        ``bottom`` to ``bottom + hist(x, bins)`` If a scalar, the bottom\n",
      "        of each bin is shifted by the same amount. If an array, each bin\n",
      "        is shifted independently and the length of bottom must match the\n",
      "        number of bins. If None, defaults to 0.\n",
      "    \n",
      "    histtype : {'bar', 'barstacked', 'step', 'stepfilled'}, default: 'bar'\n",
      "        The type of histogram to draw.\n",
      "    \n",
      "        - 'bar' is a traditional bar-type histogram.  If multiple data\n",
      "          are given the bars are arranged side by side.\n",
      "        - 'barstacked' is a bar-type histogram where multiple\n",
      "          data are stacked on top of each other.\n",
      "        - 'step' generates a lineplot that is by default unfilled.\n",
      "        - 'stepfilled' generates a lineplot that is by default filled.\n",
      "    \n",
      "    align : {'left', 'mid', 'right'}, default: 'mid'\n",
      "        The horizontal alignment of the histogram bars.\n",
      "    \n",
      "        - 'left': bars are centered on the left bin edges.\n",
      "        - 'mid': bars are centered between the bin edges.\n",
      "        - 'right': bars are centered on the right bin edges.\n",
      "    \n",
      "    orientation : {'vertical', 'horizontal'}, default: 'vertical'\n",
      "        If 'horizontal', `~.Axes.barh` will be used for bar-type histograms\n",
      "        and the *bottom* kwarg will be the left edges.\n",
      "    \n",
      "    rwidth : float or None, default: None\n",
      "        The relative width of the bars as a fraction of the bin width.  If\n",
      "        ``None``, automatically compute the width.\n",
      "    \n",
      "        Ignored if *histtype* is 'step' or 'stepfilled'.\n",
      "    \n",
      "    log : bool, default: False\n",
      "        If ``True``, the histogram axis will be set to a log scale.\n",
      "    \n",
      "    color : color or array-like of colors or None, default: None\n",
      "        Color or sequence of colors, one per dataset.  Default (``None``)\n",
      "        uses the standard line color sequence.\n",
      "    \n",
      "    label : str or None, default: None\n",
      "        String, or sequence of strings to match multiple datasets.  Bar\n",
      "        charts yield multiple patches per dataset, but only the first gets\n",
      "        the label, so that `~.Axes.legend` will work as expected.\n",
      "    \n",
      "    stacked : bool, default: False\n",
      "        If ``True``, multiple data are stacked on top of each other If\n",
      "        ``False`` multiple data are arranged side by side if histtype is\n",
      "        'bar' or on top of each other if histtype is 'step'\n",
      "    \n",
      "    Returns\n",
      "    -------\n",
      "    n : array or list of arrays\n",
      "        The values of the histogram bins. See *density* and *weights* for a\n",
      "        description of the possible semantics.  If input *x* is an array,\n",
      "        then this is an array of length *nbins*. If input is a sequence of\n",
      "        arrays ``[data1, data2, ...]``, then this is a list of arrays with\n",
      "        the values of the histograms for each of the arrays in the same\n",
      "        order.  The dtype of the array *n* (or of its element arrays) will\n",
      "        always be float even if no weighting or normalization is used.\n",
      "    \n",
      "    bins : array\n",
      "        The edges of the bins. Length nbins + 1 (nbins left edges and right\n",
      "        edge of last bin).  Always a single array even when multiple data\n",
      "        sets are passed in.\n",
      "    \n",
      "    patches : `.BarContainer` or list of a single `.Polygon` or list of such objects\n",
      "        Container of individual artists used to create the histogram\n",
      "        or list of such containers if there are multiple input datasets.\n",
      "    \n",
      "    Other Parameters\n",
      "    ----------------\n",
      "    data : indexable object, optional\n",
      "        If given, the following parameters also accept a string ``s``, which is\n",
      "        interpreted as ``data[s]`` (unless this raises an exception):\n",
      "    \n",
      "        *x*, *weights*\n",
      "    \n",
      "    **kwargs\n",
      "        `~matplotlib.patches.Patch` properties\n",
      "    \n",
      "    See Also\n",
      "    --------\n",
      "    hist2d : 2D histogram with rectangular bins\n",
      "    hexbin : 2D histogram with hexagonal bins\n",
      "    \n",
      "    Notes\n",
      "    -----\n",
      "    For large numbers of bins (>1000), 'step' and 'stepfilled' can be\n",
      "    significantly faster than 'bar' and 'barstacked'.\n",
      "\n"
     ]
    }
   ],
   "source": [
    "help(plt.hist)"
   ]
  },
  {
   "cell_type": "code",
   "execution_count": 125,
   "id": "17a15f0d-5fb7-4254-a41b-d7d920c1c0bb",
   "metadata": {},
   "outputs": [
    {
     "data": {
      "image/png": "[encoded data removed]",
      "text/plain": [
       "<Figure size 432x288 with 1 Axes>"
      ]
     },
     "metadata": {
      "needs_background": "light"
     },
     "output_type": "display_data"
    }
   ],
   "source": [
    "plt.hist(l2, bins=10);"
   ]
  },
  {
   "cell_type": "code",
   "execution_count": 58,
   "id": "6b3b6838-7f9a-4411-88be-04e1a06d4179",
   "metadata": {},
   "outputs": [
    {
     "data": {
      "image/png": "[encoded data removed]",
      "text/plain": [
       "<Figure size 432x288 with 1 Axes>"
      ]
     },
     "metadata": {
      "needs_background": "light"
     },
     "output_type": "display_data"
    }
   ],
   "source": [
    "plt.hist(l, bins=100);"
   ]
  },
  {
   "cell_type": "code",
   "execution_count": 29,
   "id": "64f741ed-4201-434b-911d-cb7ab094baf3",
   "metadata": {},
   "outputs": [],
   "source": [
    "env.seed()"
   ]
  },
  {
   "cell_type": "code",
   "execution_count": null,
   "id": "8cfc6157-727e-4133-9cfe-fba496fd03d1",
   "metadata": {},
   "outputs": [],
   "source": []
  }
 ],
 "metadata": {
  "kernelspec": {
   "display_name": "Python 3 (ipykernel)",
   "language": "python",
   "name": "python3"
  },
  "language_info": {
   "codemirror_mode": {
    "name": "ipython",
    "version": 3
   },
   "file_extension": ".py",
   "mimetype": "text/x-python",
   "name": "python",
   "nbconvert_exporter": "python",
   "pygments_lexer": "ipython3",
   "version": "3.9.9"
  }
 },
 "nbformat": 4,
 "nbformat_minor": 5
}

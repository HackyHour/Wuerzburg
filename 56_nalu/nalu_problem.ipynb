{
 "cells": [
  {
   "cell_type": "markdown",
   "id": "aquatic-aquarium",
   "metadata": {},
   "source": [
    "# Learning the identity with neural networks\n",
    "\n",
    "We try to reproduce the problem of learning neural networks that learn the identity function and extrapolate beyond the training range. See 1.1 (and Figure 1) in Trask et al. https://arxiv.org/pdf/1808.00508.pdf"
   ]
  },
  {
   "cell_type": "code",
   "execution_count": 1,
   "id": "straight-beaver",
   "metadata": {},
   "outputs": [],
   "source": [
    "import torch\n",
    "from torch import Tensor, nn, optim\n",
    "import torch.nn.functional as F\n",
    "\n",
    "import numpy as np\n",
    "from tqdm.notebook import tqdm\n",
    "import matplotlib.pyplot as plt"
   ]
  },
  {
   "cell_type": "markdown",
   "id": "improved-wellington",
   "metadata": {},
   "source": [
    "Training and extrapolation work perfectly if we do not add any non-linearity. But adding any activation function makes extrapolation fail at some points. The first model uses RELU which is very close to linear."
   ]
  },
  {
   "cell_type": "markdown",
   "id": "existing-stationery",
   "metadata": {},
   "source": [
    "### Initialize model and optimizer"
   ]
  },
  {
   "cell_type": "code",
   "execution_count": 2,
   "id": "abstract-favorite",
   "metadata": {},
   "outputs": [],
   "source": [
    "class MyModel(nn.Module):\n",
    "    def __init__(self):\n",
    "        super().__init__()\n",
    "        self.h1 = nn.Linear(1, 20)\n",
    "        self.h2 = nn.Linear(20, 1)\n",
    "\n",
    "    def forward(self, xb):\n",
    "        return self.h2(F.relu(self.h1(xb)))"
   ]
  },
  {
   "cell_type": "code",
   "execution_count": 3,
   "id": "regional-fiction",
   "metadata": {},
   "outputs": [],
   "source": [
    "mod = MyModel()\n",
    "opt = optim.SGD(mod.parameters(), lr=.05)"
   ]
  },
  {
   "cell_type": "code",
   "execution_count": 4,
   "id": "floral-vacation",
   "metadata": {},
   "outputs": [
    {
     "data": {
      "text/plain": [
       "tensor([-2.3778], grad_fn=<AddBackward0>)"
      ]
     },
     "execution_count": 4,
     "metadata": {},
     "output_type": "execute_result"
    }
   ],
   "source": [
    "mod(Tensor([7]))"
   ]
  },
  {
   "cell_type": "markdown",
   "id": "unusual-exhibit",
   "metadata": {},
   "source": [
    "### Use MSE as loss function"
   ]
  },
  {
   "cell_type": "code",
   "execution_count": 5,
   "id": "impossible-membership",
   "metadata": {},
   "outputs": [],
   "source": [
    "loss_func = F.mse_loss"
   ]
  },
  {
   "cell_type": "code",
   "execution_count": 6,
   "id": "nearby-desktop",
   "metadata": {},
   "outputs": [
    {
     "data": {
      "text/plain": [
       "tensor(1.)"
      ]
     },
     "execution_count": 6,
     "metadata": {},
     "output_type": "execute_result"
    }
   ],
   "source": [
    "loss_func(Tensor([7]), Tensor([6]))"
   ]
  },
  {
   "cell_type": "code",
   "execution_count": 7,
   "id": "accessible-board",
   "metadata": {},
   "outputs": [
    {
     "data": {
      "text/plain": [
       "tensor(87.9441, grad_fn=<MseLossBackward>)"
      ]
     },
     "execution_count": 7,
     "metadata": {},
     "output_type": "execute_result"
    }
   ],
   "source": [
    "loss_func(mod(Tensor([7])), Tensor([7]))"
   ]
  },
  {
   "cell_type": "markdown",
   "id": "miniature-contamination",
   "metadata": {},
   "source": [
    "### Generate random training data (in the range [0,1])"
   ]
  },
  {
   "cell_type": "code",
   "execution_count": 8,
   "id": "humanitarian-floor",
   "metadata": {},
   "outputs": [],
   "source": [
    "x = torch.rand(1000)"
   ]
  },
  {
   "cell_type": "markdown",
   "id": "chief-definition",
   "metadata": {},
   "source": [
    "### Train network for 10 epochs"
   ]
  },
  {
   "cell_type": "code",
   "execution_count": 9,
   "id": "brief-piece",
   "metadata": {},
   "outputs": [
    {
     "data": {
      "application/vnd.jupyter.widget-view+json": {
       "model_id": "69e25f514657447ca14c3f1cfe35974e",
       "version_major": 2,
       "version_minor": 0
      },
      "text/plain": [
       "  0%|          | 0/10 [00:00<?, ?it/s]"
      ]
     },
     "metadata": {},
     "output_type": "display_data"
    }
   ],
   "source": [
    "for epoch in tqdm(range(10)):\n",
    "    for i in x:\n",
    "        pred = mod(i.unsqueeze(0))\n",
    "        loss = loss_func(pred, i.unsqueeze(0))\n",
    "\n",
    "        loss.backward()\n",
    "        opt.step()\n",
    "        opt.zero_grad()"
   ]
  },
  {
   "cell_type": "markdown",
   "id": "modular-exposure",
   "metadata": {},
   "source": [
    "### Results of trained network"
   ]
  },
  {
   "cell_type": "code",
   "execution_count": 10,
   "id": "civil-headset",
   "metadata": {},
   "outputs": [
    {
     "data": {
      "text/plain": [
       "tensor([3.3536], grad_fn=<AddBackward0>)"
      ]
     },
     "execution_count": 10,
     "metadata": {},
     "output_type": "execute_result"
    }
   ],
   "source": [
    "mod(Tensor([5]))"
   ]
  },
  {
   "cell_type": "code",
   "execution_count": 11,
   "id": "palestinian-insight",
   "metadata": {},
   "outputs": [],
   "source": [
    "points = [[x,mod(Tensor([x])).item()] for x in np.linspace(-10,100,1000)]"
   ]
  },
  {
   "cell_type": "code",
   "execution_count": 12,
   "id": "filled-correspondence",
   "metadata": {},
   "outputs": [
    {
     "data": {
      "text/plain": [
       "<matplotlib.collections.PathCollection at 0x7f2fd8365070>"
      ]
     },
     "execution_count": 12,
     "metadata": {},
     "output_type": "execute_result"
    },
    {
     "data": {
      "image/png": "[encoded data removed]",
      "text/plain": [
       "<Figure size 432x288 with 1 Axes>"
      ]
     },
     "metadata": {
      "needs_background": "light"
     },
     "output_type": "display_data"
    }
   ],
   "source": [
    "plt.scatter([x[0] for x in points], [x[1] for x in points])"
   ]
  },
  {
   "cell_type": "markdown",
   "id": "located-alaska",
   "metadata": {},
   "source": [
    "### Initialize second model and optimizer (closer to the paper)"
   ]
  },
  {
   "cell_type": "code",
   "execution_count": 13,
   "id": "analyzed-music",
   "metadata": {},
   "outputs": [],
   "source": [
    "class MyModel2(nn.Module):\n",
    "    def __init__(self):\n",
    "        super().__init__()\n",
    "        self.h1 = nn.Linear(1, 8)\n",
    "        self.h2 = nn.Linear(8, 8)\n",
    "        self.h3 = nn.Linear(8, 8)\n",
    "        self.h4 = nn.Linear(8, 1)\n",
    "\n",
    "    def forward(self, xb):\n",
    "        res = torch.tanh(self.h1(xb))\n",
    "        res = torch.tanh(self.h2(res))\n",
    "        res = torch.tanh(self.h3(res))\n",
    "        res = self.h4(res)\n",
    "        return res"
   ]
  },
  {
   "cell_type": "code",
   "execution_count": 14,
   "id": "split-assessment",
   "metadata": {},
   "outputs": [],
   "source": [
    "mod2 = MyModel2()\n",
    "opt2 = optim.SGD(mod2.parameters(), lr=.01)"
   ]
  },
  {
   "cell_type": "code",
   "execution_count": 15,
   "id": "finnish-insertion",
   "metadata": {},
   "outputs": [
    {
     "data": {
      "application/vnd.jupyter.widget-view+json": {
       "model_id": "426a8df2db8549f4b75afeab6f5c5917",
       "version_major": 2,
       "version_minor": 0
      },
      "text/plain": [
       "  0%|          | 0/10 [00:00<?, ?it/s]"
      ]
     },
     "metadata": {},
     "output_type": "display_data"
    }
   ],
   "source": [
    "for epoch in tqdm(range(10)):\n",
    "    for i in x:\n",
    "        pred = mod2(i.unsqueeze(0))\n",
    "        loss = loss_func(pred, i.unsqueeze(0))\n",
    "\n",
    "        loss.backward()\n",
    "        opt2.step()\n",
    "        opt2.zero_grad()"
   ]
  },
  {
   "cell_type": "code",
   "execution_count": 16,
   "id": "accurate-holmes",
   "metadata": {},
   "outputs": [
    {
     "data": {
      "text/plain": [
       "tensor([0.2987], grad_fn=<AddBackward0>)"
      ]
     },
     "execution_count": 16,
     "metadata": {},
     "output_type": "execute_result"
    }
   ],
   "source": [
    "mod2(Tensor([.3]))"
   ]
  },
  {
   "cell_type": "code",
   "execution_count": 17,
   "id": "pointed-making",
   "metadata": {},
   "outputs": [
    {
     "data": {
      "text/plain": [
       "tensor([-0.4931], grad_fn=<AddBackward0>)"
      ]
     },
     "execution_count": 17,
     "metadata": {},
     "output_type": "execute_result"
    }
   ],
   "source": [
    "mod2(Tensor([-1]))"
   ]
  },
  {
   "cell_type": "code",
   "execution_count": 18,
   "id": "congressional-london",
   "metadata": {},
   "outputs": [],
   "source": [
    "points = [[x,mod2(Tensor([x])).item()] for x in np.linspace(-2,2,1000)]"
   ]
  },
  {
   "cell_type": "code",
   "execution_count": 19,
   "id": "serial-short",
   "metadata": {},
   "outputs": [
    {
     "data": {
      "text/plain": [
       "<matplotlib.collections.PathCollection at 0x7f2fd8239fa0>"
      ]
     },
     "execution_count": 19,
     "metadata": {},
     "output_type": "execute_result"
    },
    {
     "data": {
      "image/png": "[encoded data removed]",
      "text/plain": [
       "<Figure size 432x288 with 1 Axes>"
      ]
     },
     "metadata": {
      "needs_background": "light"
     },
     "output_type": "display_data"
    }
   ],
   "source": [
    "plt.scatter([x[0] for x in points], [x[1] for x in points])\n",
    "plt.scatter(np.linspace(-1,1,100),np.linspace(-1,1,100))"
   ]
  },
  {
   "cell_type": "code",
   "execution_count": null,
   "id": "convenient-grenada",
   "metadata": {},
   "outputs": [],
   "source": []
  }
 ],
 "metadata": {
  "kernelspec": {
   "display_name": "Python 3",
   "language": "python",
   "name": "python3"
  },
  "language_info": {
   "codemirror_mode": {
    "name": "ipython",
    "version": 3
   },
   "file_extension": ".py",
   "mimetype": "text/x-python",
   "name": "python",
   "nbconvert_exporter": "python",
   "pygments_lexer": "ipython3",
   "version": "3.8.8"
  }
 },
 "nbformat": 4,
 "nbformat_minor": 5
}

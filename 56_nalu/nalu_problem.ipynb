{
 "cells": [
  {
   "cell_type": "code",
   "execution_count": 7,
   "id": "significant-triple",
   "metadata": {},
   "outputs": [],
   "source": [
    "from torch import Tensor"
   ]
  },
  {
   "cell_type": "code",
   "execution_count": 1,
   "id": "searching-endorsement",
   "metadata": {},
   "outputs": [],
   "source": [
    "from torch import nn"
   ]
  },
  {
   "cell_type": "code",
   "execution_count": 82,
   "id": "classical-attitude",
   "metadata": {},
   "outputs": [],
   "source": [
    "class MyModel(nn.Module):\n",
    "    def __init__(self):\n",
    "        super().__init__()\n",
    "        self.h1 = nn.Linear(1, 20)\n",
    "        self.h2 = nn.Linear(20, 1)\n",
    "\n",
    "    def forward(self, xb):\n",
    "        return self.h2(F.relu(self.h1(xb)))"
   ]
  },
  {
   "cell_type": "code",
   "execution_count": 83,
   "id": "hybrid-brook",
   "metadata": {},
   "outputs": [],
   "source": [
    "mod = MyModel()"
   ]
  },
  {
   "cell_type": "code",
   "execution_count": 111,
   "id": "secondary-healing",
   "metadata": {},
   "outputs": [],
   "source": [
    "class MyModel2(nn.Module):\n",
    "    def __init__(self):\n",
    "        super().__init__()\n",
    "        self.h1 = nn.Linear(1, 8)\n",
    "        self.h2 = nn.Linear(8, 8)\n",
    "        self.h3 = nn.Linear(8, 8)\n",
    "        self.h4 = nn.Linear(8, 1)\n",
    "\n",
    "    def forward(self, xb):\n",
    "        res = F.tanh(self.h1(xb))\n",
    "        res = F.tanh(self.h2(res))\n",
    "        res = F.tanh(self.h3(res))\n",
    "        res = self.h4(res)\n",
    "        return res"
   ]
  },
  {
   "cell_type": "code",
   "execution_count": 112,
   "id": "running-battery",
   "metadata": {},
   "outputs": [],
   "source": [
    "mod2 = MyModel2()"
   ]
  },
  {
   "cell_type": "code",
   "execution_count": 13,
   "id": "imperial-celebrity",
   "metadata": {},
   "outputs": [
    {
     "data": {
      "text/plain": [
       "tensor([7.])"
      ]
     },
     "execution_count": 13,
     "metadata": {},
     "output_type": "execute_result"
    }
   ],
   "source": [
    "Tensor([7])"
   ]
  },
  {
   "cell_type": "code",
   "execution_count": 14,
   "id": "super-suffering",
   "metadata": {},
   "outputs": [
    {
     "data": {
      "text/plain": [
       "tensor([2.3092], grad_fn=<AddBackward0>)"
      ]
     },
     "execution_count": 14,
     "metadata": {},
     "output_type": "execute_result"
    }
   ],
   "source": [
    "mod(Tensor([7]))"
   ]
  },
  {
   "cell_type": "code",
   "execution_count": 18,
   "id": "plain-divorce",
   "metadata": {},
   "outputs": [],
   "source": [
    "import torch.nn.functional as F\n",
    "\n",
    "loss_func = F.mse_loss"
   ]
  },
  {
   "cell_type": "code",
   "execution_count": 21,
   "id": "future-batch",
   "metadata": {},
   "outputs": [
    {
     "data": {
      "text/plain": [
       "tensor(1.)"
      ]
     },
     "execution_count": 21,
     "metadata": {},
     "output_type": "execute_result"
    }
   ],
   "source": [
    "loss_func(Tensor([7]), Tensor([6]))"
   ]
  },
  {
   "cell_type": "code",
   "execution_count": 19,
   "id": "incorporated-brisbane",
   "metadata": {},
   "outputs": [
    {
     "data": {
      "text/plain": [
       "tensor(22.0039, grad_fn=<MseLossBackward>)"
      ]
     },
     "execution_count": 19,
     "metadata": {},
     "output_type": "execute_result"
    }
   ],
   "source": [
    "loss_func(mod(Tensor([7])), Tensor([7]))"
   ]
  },
  {
   "cell_type": "code",
   "execution_count": 23,
   "id": "found-pledge",
   "metadata": {},
   "outputs": [],
   "source": [
    "from torch import optim"
   ]
  },
  {
   "cell_type": "code",
   "execution_count": 84,
   "id": "furnished-steam",
   "metadata": {},
   "outputs": [],
   "source": [
    "opt = optim.SGD(mod.parameters(), lr=.05)"
   ]
  },
  {
   "cell_type": "code",
   "execution_count": 113,
   "id": "stunning-rough",
   "metadata": {},
   "outputs": [],
   "source": [
    "opt2 = optim.SGD(mod2.parameters(), lr=.01)"
   ]
  },
  {
   "cell_type": "code",
   "execution_count": 28,
   "id": "tribal-blowing",
   "metadata": {},
   "outputs": [],
   "source": [
    "import torch"
   ]
  },
  {
   "cell_type": "code",
   "execution_count": 33,
   "id": "genetic-durham",
   "metadata": {},
   "outputs": [],
   "source": [
    "x = torch.rand(1000)"
   ]
  },
  {
   "cell_type": "code",
   "execution_count": 48,
   "id": "humanitarian-chart",
   "metadata": {},
   "outputs": [
    {
     "name": "stdout",
     "output_type": "stream",
     "text": [
      "tensor([0.1847], grad_fn=<AddBackward0>)\n",
      "tensor([0.0579], grad_fn=<AddBackward0>)\n",
      "tensor([0.0846], grad_fn=<AddBackward0>)\n",
      "tensor([-0.0509], grad_fn=<AddBackward0>)\n",
      "tensor([0.0484], grad_fn=<AddBackward0>)\n",
      "tensor([0.1020], grad_fn=<AddBackward0>)\n",
      "tensor([0.0301], grad_fn=<AddBackward0>)\n",
      "tensor([0.2515], grad_fn=<AddBackward0>)\n",
      "tensor([0.0639], grad_fn=<AddBackward0>)\n",
      "tensor([0.1835], grad_fn=<AddBackward0>)\n"
     ]
    }
   ],
   "source": [
    "for bla in x[:10]:\n",
    "    #print(mod(bla))\n",
    "    print(mod(Tensor([bla])))"
   ]
  },
  {
   "cell_type": "code",
   "execution_count": 52,
   "id": "spectacular-committee",
   "metadata": {},
   "outputs": [],
   "source": [
    "from tqdm.notebook import tqdm"
   ]
  },
  {
   "cell_type": "code",
   "execution_count": 85,
   "id": "illegal-dressing",
   "metadata": {},
   "outputs": [
    {
     "data": {
      "application/vnd.jupyter.widget-view+json": {
       "model_id": "58a6d070a44043dc8aa574b5ab0626e7",
       "version_major": 2,
       "version_minor": 0
      },
      "text/plain": [
       "  0%|          | 0/10 [00:00<?, ?it/s]"
      ]
     },
     "metadata": {},
     "output_type": "display_data"
    }
   ],
   "source": [
    "for epoch in tqdm(range(10)):\n",
    "    for i in x:\n",
    "        pred = mod(i.unsqueeze(0))\n",
    "        loss = loss_func(pred, i.unsqueeze(0))\n",
    "\n",
    "        loss.backward()\n",
    "        opt.step()\n",
    "        opt.zero_grad()"
   ]
  },
  {
   "cell_type": "code",
   "execution_count": 94,
   "id": "environmental-passage",
   "metadata": {},
   "outputs": [
    {
     "data": {
      "text/plain": [
       "tensor([5.2107], grad_fn=<AddBackward0>)"
      ]
     },
     "execution_count": 94,
     "metadata": {},
     "output_type": "execute_result"
    }
   ],
   "source": [
    "mod(Tensor([5]))"
   ]
  },
  {
   "cell_type": "code",
   "execution_count": 96,
   "id": "obvious-modeling",
   "metadata": {},
   "outputs": [],
   "source": [
    "import numpy as np"
   ]
  },
  {
   "cell_type": "code",
   "execution_count": 109,
   "id": "noted-falls",
   "metadata": {},
   "outputs": [],
   "source": [
    "points = [[x,mod(Tensor([x])).item()] for x in np.linspace(-10,100,1000)]"
   ]
  },
  {
   "cell_type": "code",
   "execution_count": 107,
   "id": "baking-steal",
   "metadata": {},
   "outputs": [],
   "source": [
    "import matplotlib.pyplot as plt"
   ]
  },
  {
   "cell_type": "code",
   "execution_count": 110,
   "id": "handmade-disclosure",
   "metadata": {},
   "outputs": [
    {
     "data": {
      "text/plain": [
       "<matplotlib.collections.PathCollection at 0x7f7d0e0fe190>"
      ]
     },
     "execution_count": 110,
     "metadata": {},
     "output_type": "execute_result"
    },
    {
     "data": {
      "image/png": "[encoded data removed]",
      "text/plain": [
       "<Figure size 432x288 with 1 Axes>"
      ]
     },
     "metadata": {
      "needs_background": "light"
     },
     "output_type": "display_data"
    }
   ],
   "source": [
    "plt.scatter([x[0] for x in points], [x[1] for x in points])"
   ]
  },
  {
   "cell_type": "code",
   "execution_count": null,
   "id": "stock-partner",
   "metadata": {},
   "outputs": [],
   "source": []
  },
  {
   "cell_type": "code",
   "execution_count": null,
   "id": "sweet-contrary",
   "metadata": {},
   "outputs": [],
   "source": []
  },
  {
   "cell_type": "code",
   "execution_count": null,
   "id": "coral-union",
   "metadata": {},
   "outputs": [],
   "source": []
  },
  {
   "cell_type": "code",
   "execution_count": 114,
   "id": "changing-installation",
   "metadata": {},
   "outputs": [
    {
     "data": {
      "application/vnd.jupyter.widget-view+json": {
       "model_id": "67e75073fc35495cb139a98ba14c2b4b",
       "version_major": 2,
       "version_minor": 0
      },
      "text/plain": [
       "  0%|          | 0/10 [00:00<?, ?it/s]"
      ]
     },
     "metadata": {},
     "output_type": "display_data"
    },
    {
     "name": "stderr",
     "output_type": "stream",
     "text": [
      "/home/markus/miniconda3/envs/jupyter/lib/python3.8/site-packages/torch/nn/functional.py:1628: UserWarning: nn.functional.tanh is deprecated. Use torch.tanh instead.\n",
      "  warnings.warn(\"nn.functional.tanh is deprecated. Use torch.tanh instead.\")\n"
     ]
    }
   ],
   "source": [
    "for epoch in tqdm(range(10)):\n",
    "    for i in x:\n",
    "        pred = mod2(i.unsqueeze(0))\n",
    "        loss = loss_func(pred, i.unsqueeze(0))\n",
    "\n",
    "        loss.backward()\n",
    "        opt2.step()\n",
    "        opt2.zero_grad()"
   ]
  },
  {
   "cell_type": "code",
   "execution_count": 115,
   "id": "experienced-chart",
   "metadata": {},
   "outputs": [
    {
     "data": {
      "text/plain": [
       "tensor([0.2956], grad_fn=<AddBackward0>)"
      ]
     },
     "execution_count": 115,
     "metadata": {},
     "output_type": "execute_result"
    }
   ],
   "source": [
    "mod2(Tensor([.3]))"
   ]
  },
  {
   "cell_type": "code",
   "execution_count": 117,
   "id": "artificial-cursor",
   "metadata": {},
   "outputs": [
    {
     "data": {
      "text/plain": [
       "tensor([-0.6518], grad_fn=<AddBackward0>)"
      ]
     },
     "execution_count": 117,
     "metadata": {},
     "output_type": "execute_result"
    }
   ],
   "source": [
    "mod2(Tensor([-1]))"
   ]
  },
  {
   "cell_type": "code",
   "execution_count": 123,
   "id": "surface-challenge",
   "metadata": {},
   "outputs": [],
   "source": [
    "points = [[x,mod2(Tensor([x])).item()] for x in np.linspace(-2,2,1000)]"
   ]
  },
  {
   "cell_type": "code",
   "execution_count": 129,
   "id": "satisfactory-increase",
   "metadata": {},
   "outputs": [
    {
     "data": {
      "text/plain": [
       "<matplotlib.collections.PathCollection at 0x7f7d06351c40>"
      ]
     },
     "execution_count": 129,
     "metadata": {},
     "output_type": "execute_result"
    },
    {
     "data": {
      "image/png": "[encoded data removed]",
      "text/plain": [
       "<Figure size 432x288 with 1 Axes>"
      ]
     },
     "metadata": {
      "needs_background": "light"
     },
     "output_type": "display_data"
    }
   ],
   "source": [
    "plt.scatter([x[0] for x in points], [x[1] for x in points])\n",
    "plt.scatter(np.linspace(-1,1,100),np.linspace(-1,1,100))"
   ]
  },
  {
   "cell_type": "code",
   "execution_count": null,
   "id": "subtle-walnut",
   "metadata": {},
   "outputs": [],
   "source": []
  }
 ],
 "metadata": {
  "kernelspec": {
   "display_name": "Python 3",
   "language": "python",
   "name": "python3"
  },
  "language_info": {
   "codemirror_mode": {
    "name": "ipython",
    "version": 3
   },
   "file_extension": ".py",
   "mimetype": "text/x-python",
   "name": "python",
   "nbconvert_exporter": "python",
   "pygments_lexer": "ipython3",
   "version": "3.8.8"
  }
 },
 "nbformat": 4,
 "nbformat_minor": 5
}

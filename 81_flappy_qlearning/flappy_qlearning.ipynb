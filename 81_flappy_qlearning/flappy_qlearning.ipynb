{
 "cells": [
  {
   "cell_type": "markdown",
   "id": "18d199ad-3196-472d-87c8-7b08c1c26490",
   "metadata": {},
   "source": [
    "# Apply Q-Learning to the Flappy Bird Gym\n",
    "\n",
    "Code adapted from: https://towardsdatascience.com/q-learning-algorithm-from-explanation-to-implementation-cdbeda2ea187"
   ]
  },
  {
   "cell_type": "code",
   "execution_count": 178,
   "id": "8ae160b0-1d76-4778-9ed3-7b3f463f6a1d",
   "metadata": {},
   "outputs": [],
   "source": [
    "import time\n",
    "import flappy_bird_gym\n",
    "import numpy as np\n",
    "import matplotlib.pyplot as plt\n",
    "env = flappy_bird_gym.make(\"FlappyBird-v0\")"
   ]
  },
  {
   "cell_type": "code",
   "execution_count": 76,
   "id": "decdccef-60a5-4bad-82c6-89461f7bce59",
   "metadata": {},
   "outputs": [],
   "source": [
    "n_x = 170\n",
    "n_y = 200\n",
    "n_observations = n_x*n_y\n",
    "n_actions = 2"
   ]
  },
  {
   "cell_type": "code",
   "execution_count": 79,
   "id": "ec8a6646-e992-433d-a61a-3bcaa4ed266f",
   "metadata": {},
   "outputs": [],
   "source": [
    "def state_to_index(x, y):\n",
    "    idx = np.round(x*100)*200 + np.round((y+1)*100)\n",
    "    return int(idx)"
   ]
  },
  {
   "cell_type": "code",
   "execution_count": 236,
   "id": "d2b7fe70-b9dc-4795-bcbb-12c8018c32f5",
   "metadata": {},
   "outputs": [
    {
     "name": "stdout",
     "output_type": "stream",
     "text": [
      "[[0. 0.]\n",
      " [0. 0.]\n",
      " [0. 0.]\n",
      " ...\n",
      " [0. 0.]\n",
      " [0. 0.]\n",
      " [0. 0.]]\n"
     ]
    }
   ],
   "source": [
    "Q_table = np.zeros((n_observations,n_actions))\n",
    "print(Q_table)"
   ]
  },
  {
   "cell_type": "code",
   "execution_count": 237,
   "id": "6b7d804c-0dc1-4a89-bc62-2e76a3d3aded",
   "metadata": {},
   "outputs": [
    {
     "data": {
      "text/plain": [
       "32884"
      ]
     },
     "execution_count": 237,
     "metadata": {},
     "output_type": "execute_result"
    }
   ],
   "source": [
    "env.reset()\n",
    "obs = env.step(0)\n",
    "state_to_index(*obs[0])"
   ]
  },
  {
   "cell_type": "code",
   "execution_count": 238,
   "id": "36c432bb-de00-406d-a0de-e34abec163cf",
   "metadata": {},
   "outputs": [],
   "source": [
    "#number of episode we will run\n",
    "n_episodes = 10000\n",
    "\n",
    "#maximum of iteration per episode\n",
    "max_iter_episode = 10000\n",
    "\n",
    "#initialize the exploration probability to 1\n",
    "exploration_proba = 1\n",
    "\n",
    "#exploartion decreasing decay for exponential decreasing\n",
    "exploration_decreasing_decay = 0.001\n",
    "\n",
    "# minimum of exploration proba\n",
    "min_exploration_proba = 0.01\n",
    "\n",
    "#discounted factor\n",
    "gamma = 0.99\n",
    "\n",
    "#learning rate\n",
    "lr = 0.1"
   ]
  },
  {
   "cell_type": "code",
   "execution_count": 239,
   "id": "fe381d14-52bf-45d3-aecd-61af2d299b01",
   "metadata": {},
   "outputs": [],
   "source": [
    "rewards_per_episode = list()"
   ]
  },
  {
   "cell_type": "code",
   "execution_count": 240,
   "id": "01b38d5f-0a22-4d6f-82a9-8c4f3da3bcad",
   "metadata": {},
   "outputs": [],
   "source": [
    "#we iterate over episodes\n",
    "for e in range(n_episodes):\n",
    "    #we initialize the first state of the episode\n",
    "    current_state = env.reset()\n",
    "    done = False\n",
    "    \n",
    "    #sum the rewards that the agent gets from the environment\n",
    "    total_episode_reward = 0\n",
    "    reward = {'score':0}\n",
    "    \n",
    "    for i in range(max_iter_episode):\n",
    "        if reward['score'] == 0:\n",
    "            action = 0\n",
    "            # env.action_space.sample() for a random action # 0 = nothing, 1 = flap\n",
    "            if current_state[0] < 0.2:\n",
    "                if current_state[1] < -.05:\n",
    "                    action = 1\n",
    "            else:\n",
    "                if current_state[1] < -0.03:\n",
    "                    action = 1\n",
    "\n",
    "            # Processing:\n",
    "            current_state, _, done, reward = env.step(action)\n",
    "        else:\n",
    "            # we sample a float from a uniform distribution over 0 and 1\n",
    "            # if the sampled flaot is less than the exploration proba\n",
    "            #     the agent selects arandom action\n",
    "            # else\n",
    "            #     he exploits his knowledge using the bellman equation \n",
    "\n",
    "            if np.random.uniform(0,1) < exploration_proba:\n",
    "                action = env.action_space.sample()\n",
    "            else:\n",
    "                current_line = Q_table[state_to_index(*current_state),:]\n",
    "                if current_line[0] == current_line[1]:\n",
    "                    action = env.action_space.sample()\n",
    "                else:\n",
    "                    action = np.argmax(current_line)\n",
    "\n",
    "            # The environment runs the chosen action and returns\n",
    "            # the next state, a reward and true if the epiosed is ended.\n",
    "            next_state, _ , done, reward = env.step(action)\n",
    "\n",
    "            # We update our Q-table using the Q-learning iteration\n",
    "            Q_table[state_to_index(*current_state), action] = (1-lr) * Q_table[state_to_index(*current_state), action] +lr*(1 + gamma*max(Q_table[state_to_index(*next_state),:]))\n",
    "            total_episode_reward += 1\n",
    "            # If the episode is finished, we leave the for loop\n",
    "            if done:\n",
    "                break\n",
    "            current_state = next_state\n",
    "    #We update the exploration proba using exponential decay formula \n",
    "    exploration_proba = max(min_exploration_proba, np.exp(-exploration_decreasing_decay*e))\n",
    "    rewards_per_episode.append(total_episode_reward)"
   ]
  },
  {
   "cell_type": "code",
   "execution_count": 241,
   "id": "5dde04c8-9e44-4b55-8980-633479d7d021",
   "metadata": {},
   "outputs": [
    {
     "data": {
      "text/plain": [
       "[<matplotlib.lines.Line2D at 0x7fdc1037a430>]"
      ]
     },
     "execution_count": 241,
     "metadata": {},
     "output_type": "execute_result"
    },
    {
     "data": {
      "image/png": "[encoded data removed]",
      "text/plain": [
       "<Figure size 432x288 with 1 Axes>"
      ]
     },
     "metadata": {
      "needs_background": "light"
     },
     "output_type": "display_data"
    }
   ],
   "source": [
    "plt.plot(rewards_per_episode)"
   ]
  },
  {
   "cell_type": "code",
   "execution_count": 242,
   "id": "3baae1e5-edd6-4e28-b768-749f6091d592",
   "metadata": {},
   "outputs": [
    {
     "data": {
      "text/plain": [
       "(array([0.05902778, 0.08203125]), 1, True, {'score': 1})"
      ]
     },
     "execution_count": 242,
     "metadata": {},
     "output_type": "execute_result"
    }
   ],
   "source": [
    "env.step(0)"
   ]
  },
  {
   "cell_type": "code",
   "execution_count": 243,
   "id": "5080aa2d-69fc-4321-a8d1-7db311386eaf",
   "metadata": {},
   "outputs": [
    {
     "data": {
      "text/plain": [
       "[<matplotlib.lines.Line2D at 0x7fdc103a9fa0>,\n",
       " <matplotlib.lines.Line2D at 0x7fdc103b2040>]"
      ]
     },
     "execution_count": 243,
     "metadata": {},
     "output_type": "execute_result"
    },
    {
     "data": {
      "image/png": "[encoded data removed]",
      "text/plain": [
       "<Figure size 432x288 with 1 Axes>"
      ]
     },
     "metadata": {
      "needs_background": "light"
     },
     "output_type": "display_data"
    }
   ],
   "source": [
    "plt.plot(Q_table)"
   ]
  },
  {
   "cell_type": "code",
   "execution_count": 7,
   "id": "05a202d7-c4b7-4f62-9cb9-5a8ee3defd94",
   "metadata": {},
   "outputs": [],
   "source": [
    "def run(fps=None):\n",
    "    obs = env.reset()\n",
    "    freq = 5\n",
    "    counter = 0\n",
    "    while True:\n",
    "        counter += 1\n",
    "        # Next action:\n",
    "        # (feed the observation to your agent here)\n",
    "        action = 0\n",
    "        # env.action_space.sample() for a random action # 0 = nothing, 1 = flap\n",
    "        if obs[0] < 0.2:\n",
    "            if obs[1] < -.05:\n",
    "                action = 1\n",
    "        else:\n",
    "            if obs[1] < -0.03:\n",
    "                action = 1\n",
    "\n",
    "        # Processing:\n",
    "        obs_old = obs\n",
    "        obs, reward, done, info = env.step(action)\n",
    "        v_y = obs[1]-obs_old[1]\n",
    "        #print(obs)\n",
    "\n",
    "        # Rendering the game:\n",
    "        # (remove this two lines during training)\n",
    "        env.render()\n",
    "        if fps is not None:\n",
    "            time.sleep(1 / fps)  # FPS\n",
    "\n",
    "        # Checking if the player is still alive\n",
    "        if done:\n",
    "            #env.close()\n",
    "            return info\n"
   ]
  },
  {
   "cell_type": "code",
   "execution_count": 8,
   "id": "57678201-0e45-40b8-b9c4-af487d608c6b",
   "metadata": {},
   "outputs": [
    {
     "data": {
      "text/plain": [
       "{'score': 80}"
      ]
     },
     "execution_count": 8,
     "metadata": {},
     "output_type": "execute_result"
    }
   ],
   "source": [
    "run(fps=60)"
   ]
  },
  {
   "cell_type": "code",
   "execution_count": 9,
   "id": "1d715e4d-085d-4e98-a8f6-67f70f8d700b",
   "metadata": {},
   "outputs": [],
   "source": [
    "env.close()"
   ]
  },
  {
   "cell_type": "code",
   "execution_count": 111,
   "id": "a6cf90d6-3bfd-49ef-bfc1-9149e0df1699",
   "metadata": {},
   "outputs": [],
   "source": [
    "l = [run()['score'] for i in range(1000)]"
   ]
  },
  {
   "cell_type": "code",
   "execution_count": 114,
   "id": "c2b1cf60-c1bb-4f7d-a409-7a8fbebc5e2e",
   "metadata": {},
   "outputs": [],
   "source": [
    "from tqdm.notebook import tqdm\n",
    "from matplotlib import pyplot as plt"
   ]
  },
  {
   "cell_type": "code",
   "execution_count": 123,
   "id": "02e31318-4f03-4b4b-ad79-71e557df72fc",
   "metadata": {},
   "outputs": [
    {
     "data": {
      "application/vnd.jupyter.widget-view+json": {
       "model_id": "71f64fabf4d74685944f9ebc51e4223c",
       "version_major": 2,
       "version_minor": 0
      },
      "text/plain": [
       "  0%|          | 0/50 [00:00<?, ?it/s]"
      ]
     },
     "metadata": {},
     "output_type": "display_data"
    }
   ],
   "source": [
    "l2 = [run(fps=600)['score'] for i in tqdm(range(50))]"
   ]
  },
  {
   "cell_type": "code",
   "execution_count": 117,
   "id": "d1e62f61-005e-4c59-949d-2b2702eda6fb",
   "metadata": {
    "collapsed": true,
    "jupyter": {
     "outputs_hidden": true
    },
    "tags": []
   },
   "outputs": [
    {
     "name": "stdout",
     "output_type": "stream",
     "text": [
      "Help on function hist in module matplotlib.pyplot:\n",
      "\n",
      "hist(x, bins=None, range=None, density=False, weights=None, cumulative=False, bottom=None, histtype='bar', align='mid', orientation='vertical', rwidth=None, log=False, color=None, label=None, stacked=False, *, data=None, **kwargs)\n",
      "    Plot a histogram.\n",
      "    \n",
      "    Compute and draw the histogram of *x*.  The return value is a tuple\n",
      "    (*n*, *bins*, *patches*) or ([*n0*, *n1*, ...], *bins*, [*patches0*,\n",
      "    *patches1*, ...]) if the input contains multiple data.  See the\n",
      "    documentation of the *weights* parameter to draw a histogram of\n",
      "    already-binned data.\n",
      "    \n",
      "    Multiple data can be provided via *x* as a list of datasets\n",
      "    of potentially different length ([*x0*, *x1*, ...]), or as\n",
      "    a 2D ndarray in which each column is a dataset.  Note that\n",
      "    the ndarray form is transposed relative to the list form.\n",
      "    \n",
      "    Masked arrays are not supported.\n",
      "    \n",
      "    The *bins*, *range*, *weights*, and *density* parameters behave as in\n",
      "    `numpy.histogram`.\n",
      "    \n",
      "    Parameters\n",
      "    ----------\n",
      "    x : (n,) array or sequence of (n,) arrays\n",
      "        Input values, this takes either a single array or a sequence of\n",
      "        arrays which are not required to be of the same length.\n",
      "    \n",
      "    bins : int or sequence or str, default: :rc:`hist.bins`\n",
      "        If *bins* is an integer, it defines the number of equal-width bins\n",
      "        in the range.\n",
      "    \n",
      "        If *bins* is a sequence, it defines the bin edges, including the\n",
      "        left edge of the first bin and the right edge of the last bin;\n",
      "        in this case, bins may be unequally spaced.  All but the last\n",
      "        (righthand-most) bin is half-open.  In other words, if *bins* is::\n",
      "    \n",
      "            [1, 2, 3, 4]\n",
      "    \n",
      "        then the first bin is ``[1, 2)`` (including 1, but excluding 2) and\n",
      "        the second ``[2, 3)``.  The last bin, however, is ``[3, 4]``, which\n",
      "        *includes* 4.\n",
      "    \n",
      "        If *bins* is a string, it is one of the binning strategies\n",
      "        supported by `numpy.histogram_bin_edges`: 'auto', 'fd', 'doane',\n",
      "        'scott', 'stone', 'rice', 'sturges', or 'sqrt'.\n",
      "    \n",
      "    range : tuple or None, default: None\n",
      "        The lower and upper range of the bins. Lower and upper outliers\n",
      "        are ignored. If not provided, *range* is ``(x.min(), x.max())``.\n",
      "        Range has no effect if *bins* is a sequence.\n",
      "    \n",
      "        If *bins* is a sequence or *range* is specified, autoscaling\n",
      "        is based on the specified bin range instead of the\n",
      "        range of x.\n",
      "    \n",
      "    density : bool, default: False\n",
      "        If ``True``, draw and return a probability density: each bin\n",
      "        will display the bin's raw count divided by the total number of\n",
      "        counts *and the bin width*\n",
      "        (``density = counts / (sum(counts) * np.diff(bins))``),\n",
      "        so that the area under the histogram integrates to 1\n",
      "        (``np.sum(density * np.diff(bins)) == 1``).\n",
      "    \n",
      "        If *stacked* is also ``True``, the sum of the histograms is\n",
      "        normalized to 1.\n",
      "    \n",
      "    weights : (n,) array-like or None, default: None\n",
      "        An array of weights, of the same shape as *x*.  Each value in\n",
      "        *x* only contributes its associated weight towards the bin count\n",
      "        (instead of 1).  If *density* is ``True``, the weights are\n",
      "        normalized, so that the integral of the density over the range\n",
      "        remains 1.\n",
      "    \n",
      "        This parameter can be used to draw a histogram of data that has\n",
      "        already been binned, e.g. using `numpy.histogram` (by treating each\n",
      "        bin as a single point with a weight equal to its count) ::\n",
      "    \n",
      "            counts, bins = np.histogram(data)\n",
      "            plt.hist(bins[:-1], bins, weights=counts)\n",
      "    \n",
      "        (or you may alternatively use `~.bar()`).\n",
      "    \n",
      "    cumulative : bool or -1, default: False\n",
      "        If ``True``, then a histogram is computed where each bin gives the\n",
      "        counts in that bin plus all bins for smaller values. The last bin\n",
      "        gives the total number of datapoints.\n",
      "    \n",
      "        If *density* is also ``True`` then the histogram is normalized such\n",
      "        that the last bin equals 1.\n",
      "    \n",
      "        If *cumulative* is a number less than 0 (e.g., -1), the direction\n",
      "        of accumulation is reversed.  In this case, if *density* is also\n",
      "        ``True``, then the histogram is normalized such that the first bin\n",
      "        equals 1.\n",
      "    \n",
      "    bottom : array-like, scalar, or None, default: None\n",
      "        Location of the bottom of each bin, ie. bins are drawn from\n",
      "        ``bottom`` to ``bottom + hist(x, bins)`` If a scalar, the bottom\n",
      "        of each bin is shifted by the same amount. If an array, each bin\n",
      "        is shifted independently and the length of bottom must match the\n",
      "        number of bins. If None, defaults to 0.\n",
      "    \n",
      "    histtype : {'bar', 'barstacked', 'step', 'stepfilled'}, default: 'bar'\n",
      "        The type of histogram to draw.\n",
      "    \n",
      "        - 'bar' is a traditional bar-type histogram.  If multiple data\n",
      "          are given the bars are arranged side by side.\n",
      "        - 'barstacked' is a bar-type histogram where multiple\n",
      "          data are stacked on top of each other.\n",
      "        - 'step' generates a lineplot that is by default unfilled.\n",
      "        - 'stepfilled' generates a lineplot that is by default filled.\n",
      "    \n",
      "    align : {'left', 'mid', 'right'}, default: 'mid'\n",
      "        The horizontal alignment of the histogram bars.\n",
      "    \n",
      "        - 'left': bars are centered on the left bin edges.\n",
      "        - 'mid': bars are centered between the bin edges.\n",
      "        - 'right': bars are centered on the right bin edges.\n",
      "    \n",
      "    orientation : {'vertical', 'horizontal'}, default: 'vertical'\n",
      "        If 'horizontal', `~.Axes.barh` will be used for bar-type histograms\n",
      "        and the *bottom* kwarg will be the left edges.\n",
      "    \n",
      "    rwidth : float or None, default: None\n",
      "        The relative width of the bars as a fraction of the bin width.  If\n",
      "        ``None``, automatically compute the width.\n",
      "    \n",
      "        Ignored if *histtype* is 'step' or 'stepfilled'.\n",
      "    \n",
      "    log : bool, default: False\n",
      "        If ``True``, the histogram axis will be set to a log scale.\n",
      "    \n",
      "    color : color or array-like of colors or None, default: None\n",
      "        Color or sequence of colors, one per dataset.  Default (``None``)\n",
      "        uses the standard line color sequence.\n",
      "    \n",
      "    label : str or None, default: None\n",
      "        String, or sequence of strings to match multiple datasets.  Bar\n",
      "        charts yield multiple patches per dataset, but only the first gets\n",
      "        the label, so that `~.Axes.legend` will work as expected.\n",
      "    \n",
      "    stacked : bool, default: False\n",
      "        If ``True``, multiple data are stacked on top of each other If\n",
      "        ``False`` multiple data are arranged side by side if histtype is\n",
      "        'bar' or on top of each other if histtype is 'step'\n",
      "    \n",
      "    Returns\n",
      "    -------\n",
      "    n : array or list of arrays\n",
      "        The values of the histogram bins. See *density* and *weights* for a\n",
      "        description of the possible semantics.  If input *x* is an array,\n",
      "        then this is an array of length *nbins*. If input is a sequence of\n",
      "        arrays ``[data1, data2, ...]``, then this is a list of arrays with\n",
      "        the values of the histograms for each of the arrays in the same\n",
      "        order.  The dtype of the array *n* (or of its element arrays) will\n",
      "        always be float even if no weighting or normalization is used.\n",
      "    \n",
      "    bins : array\n",
      "        The edges of the bins. Length nbins + 1 (nbins left edges and right\n",
      "        edge of last bin).  Always a single array even when multiple data\n",
      "        sets are passed in.\n",
      "    \n",
      "    patches : `.BarContainer` or list of a single `.Polygon` or list of such objects\n",
      "        Container of individual artists used to create the histogram\n",
      "        or list of such containers if there are multiple input datasets.\n",
      "    \n",
      "    Other Parameters\n",
      "    ----------------\n",
      "    data : indexable object, optional\n",
      "        If given, the following parameters also accept a string ``s``, which is\n",
      "        interpreted as ``data[s]`` (unless this raises an exception):\n",
      "    \n",
      "        *x*, *weights*\n",
      "    \n",
      "    **kwargs\n",
      "        `~matplotlib.patches.Patch` properties\n",
      "    \n",
      "    See Also\n",
      "    --------\n",
      "    hist2d : 2D histogram with rectangular bins\n",
      "    hexbin : 2D histogram with hexagonal bins\n",
      "    \n",
      "    Notes\n",
      "    -----\n",
      "    For large numbers of bins (>1000), 'step' and 'stepfilled' can be\n",
      "    significantly faster than 'bar' and 'barstacked'.\n",
      "\n"
     ]
    }
   ],
   "source": [
    "help(plt.hist)"
   ]
  },
  {
   "cell_type": "code",
   "execution_count": 125,
   "id": "17a15f0d-5fb7-4254-a41b-d7d920c1c0bb",
   "metadata": {},
   "outputs": [
    {
     "data": {
      "image/png": "[encoded data removed]",
      "text/plain": [
       "<Figure size 432x288 with 1 Axes>"
      ]
     },
     "metadata": {
      "needs_background": "light"
     },
     "output_type": "display_data"
    }
   ],
   "source": [
    "plt.hist(l2, bins=10);"
   ]
  },
  {
   "cell_type": "code",
   "execution_count": 120,
   "id": "6b3b6838-7f9a-4411-88be-04e1a06d4179",
   "metadata": {},
   "outputs": [
    {
     "data": {
      "image/png": "[encoded data removed]",
      "text/plain": [
       "<Figure size 432x288 with 1 Axes>"
      ]
     },
     "metadata": {
      "needs_background": "light"
     },
     "output_type": "display_data"
    }
   ],
   "source": [
    "plt.hist(l, bins=100);"
   ]
  },
  {
   "cell_type": "code",
   "execution_count": null,
   "id": "64f741ed-4201-434b-911d-cb7ab094baf3",
   "metadata": {},
   "outputs": [],
   "source": []
  }
 ],
 "metadata": {
  "kernelspec": {
   "display_name": "Python 3 (ipykernel)",
   "language": "python",
   "name": "python3"
  },
  "language_info": {
   "codemirror_mode": {
    "name": "ipython",
    "version": 3
   },
   "file_extension": ".py",
   "mimetype": "text/x-python",
   "name": "python",
   "nbconvert_exporter": "python",
   "pygments_lexer": "ipython3",
   "version": "3.9.9"
  }
 },
 "nbformat": 4,
 "nbformat_minor": 5
}

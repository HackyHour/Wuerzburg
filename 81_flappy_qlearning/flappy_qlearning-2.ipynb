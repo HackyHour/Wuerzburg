{
 "cells": [
  {
   "cell_type": "code",
   "execution_count": 2,
   "id": "8ae160b0-1d76-4778-9ed3-7b3f463f6a1d",
   "metadata": {},
   "outputs": [],
   "source": [
    "import time\n",
    "import flappy_bird_gym\n",
    "import numpy as np\n",
    "import matplotlib.pyplot as plt\n",
    "env = flappy_bird_gym.make(\"FlappyBird-v0\")"
   ]
  },
  {
   "cell_type": "code",
   "execution_count": 3,
   "id": "decdccef-60a5-4bad-82c6-89461f7bce59",
   "metadata": {},
   "outputs": [],
   "source": [
    "n_x = 170\n",
    "n_y = 200\n",
    "n_observations = n_x*n_y\n",
    "n_actions = 2"
   ]
  },
  {
   "cell_type": "code",
   "execution_count": 4,
   "id": "ec8a6646-e992-433d-a61a-3bcaa4ed266f",
   "metadata": {},
   "outputs": [],
   "source": [
    "def state_to_index(x, y):\n",
    "    idx = np.round(x*100)*200 + np.round((y+1)*100)\n",
    "    return int(idx)"
   ]
  },
  {
   "cell_type": "code",
   "execution_count": 5,
   "id": "d2b7fe70-b9dc-4795-bcbb-12c8018c32f5",
   "metadata": {},
   "outputs": [
    {
     "name": "stdout",
     "output_type": "stream",
     "text": [
      "[[0. 0.]\n",
      " [0. 0.]\n",
      " [0. 0.]\n",
      " ...\n",
      " [0. 0.]\n",
      " [0. 0.]\n",
      " [0. 0.]]\n"
     ]
    }
   ],
   "source": [
    "Q_table = np.zeros((n_observations,n_actions))\n",
    "print(Q_table)"
   ]
  },
  {
   "cell_type": "code",
   "execution_count": 6,
   "id": "6b7d804c-0dc1-4a89-bc62-2e76a3d3aded",
   "metadata": {},
   "outputs": [
    {
     "data": {
      "text/plain": [
       "32896"
      ]
     },
     "execution_count": 6,
     "metadata": {},
     "output_type": "execute_result"
    }
   ],
   "source": [
    "env.reset()\n",
    "obs = env.step(0)\n",
    "state_to_index(*obs[0])"
   ]
  },
  {
   "cell_type": "code",
   "execution_count": 7,
   "id": "36c432bb-de00-406d-a0de-e34abec163cf",
   "metadata": {},
   "outputs": [],
   "source": [
    "#number of episode we will run\n",
    "n_episodes = 10000\n",
    "\n",
    "#maximum of iteration per episode\n",
    "max_iter_episode = 10000\n",
    "\n",
    "#initialize the exploration probability to 1\n",
    "exploration_proba = 1\n",
    "\n",
    "#exploartion decreasing decay for exponential decreasing\n",
    "exploration_decreasing_decay = 0.001\n",
    "\n",
    "# minimum of exploration proba\n",
    "min_exploration_proba = 0.01\n",
    "\n",
    "#discounted factor\n",
    "gamma = 0.99\n",
    "\n",
    "#learning rate\n",
    "lr = 0.1"
   ]
  },
  {
   "cell_type": "code",
   "execution_count": 8,
   "id": "fe381d14-52bf-45d3-aecd-61af2d299b01",
   "metadata": {},
   "outputs": [],
   "source": [
    "rewards_per_episode = list()"
   ]
  },
  {
   "cell_type": "code",
   "execution_count": 18,
   "id": "01b38d5f-0a22-4d6f-82a9-8c4f3da3bcad",
   "metadata": {},
   "outputs": [],
   "source": [
    "#we iterate over episodes\n",
    "for e in range(70000):#n_episodes):\n",
    "    #we initialize the first state of the episode\n",
    "    current_state = env.reset()\n",
    "    done = False\n",
    "    \n",
    "    #sum the rewards that the agent gets from the environment\n",
    "    total_episode_reward = 0\n",
    "    reward = {'score':0}\n",
    "    \n",
    "    for i in range(max_iter_episode):\n",
    "        if reward['score'] == 0 or current_state[1]>0 or current_state[1]<-.05:\n",
    "            action = 0\n",
    "            # env.action_space.sample() for a random action # 0 = nothing, 1 = flap\n",
    "            if current_state[0] < 0.2:\n",
    "                if current_state[1] < -.05:\n",
    "                    action = 1\n",
    "            else:\n",
    "                if current_state[1] < -0.03:\n",
    "                    action = 1\n",
    "\n",
    "            # Processing:\n",
    "            current_state, _, done, reward = env.step(action)\n",
    "        else:\n",
    "            # we sample a float from a uniform distribution over 0 and 1\n",
    "            # if the sampled flaot is less than the exploration proba\n",
    "            #     the agent selects arandom action\n",
    "            # else\n",
    "            #     he exploits his knowledge using the bellman equation \n",
    "\n",
    "            if np.random.uniform(0,1) < exploration_proba:\n",
    "                action = env.action_space.sample()\n",
    "            else:\n",
    "                current_line = Q_table[state_to_index(*current_state),:]\n",
    "                if current_line[0] == current_line[1]:\n",
    "                    action = env.action_space.sample()\n",
    "                else:\n",
    "                    action = np.argmax(current_line)\n",
    "\n",
    "            # The environment runs the chosen action and returns\n",
    "            # the next state, a reward and true if the epiosed is ended.\n",
    "            next_state, _ , done, reward = env.step(action)\n",
    "\n",
    "            # We update our Q-table using the Q-learning iteration\n",
    "            Q_table[state_to_index(*current_state), action] = (1-lr) * Q_table[state_to_index(*current_state), action] +lr*(1 + gamma*max(Q_table[state_to_index(*next_state),:]))\n",
    "            total_episode_reward += 1\n",
    "            # If the episode is finished, we leave the for loop\n",
    "            if done:\n",
    "                break\n",
    "            current_state = next_state\n",
    "    #We update the exploration proba using exponential decay formula \n",
    "    exploration_proba = max(min_exploration_proba, np.exp(-exploration_decreasing_decay*e))\n",
    "    rewards_per_episode.append(total_episode_reward)"
   ]
  },
  {
   "cell_type": "code",
   "execution_count": 19,
   "id": "5dde04c8-9e44-4b55-8980-633479d7d021",
   "metadata": {},
   "outputs": [
    {
     "data": {
      "text/plain": [
       "[<matplotlib.lines.Line2D at 0x7f173d0de2b0>]"
      ]
     },
     "execution_count": 19,
     "metadata": {},
     "output_type": "execute_result"
    },
    {
     "data": {
      "image/png": "[encoded data removed]",
      "text/plain": [
       "<Figure size 432x288 with 1 Axes>"
      ]
     },
     "metadata": {
      "needs_background": "light"
     },
     "output_type": "display_data"
    }
   ],
   "source": [
    "plt.plot(rewards_per_episode)"
   ]
  },
  {
   "cell_type": "code",
   "execution_count": 20,
   "id": "3baae1e5-edd6-4e28-b768-749f6091d592",
   "metadata": {},
   "outputs": [
    {
     "data": {
      "text/plain": [
       "(array([0.27430556, 0.11328125]), 1, True, {'score': 25})"
      ]
     },
     "execution_count": 20,
     "metadata": {},
     "output_type": "execute_result"
    }
   ],
   "source": [
    "env.step(0)"
   ]
  },
  {
   "cell_type": "code",
   "execution_count": 21,
   "id": "5080aa2d-69fc-4321-a8d1-7db311386eaf",
   "metadata": {},
   "outputs": [
    {
     "data": {
      "text/plain": [
       "[<matplotlib.lines.Line2D at 0x7f173c974cd0>,\n",
       " <matplotlib.lines.Line2D at 0x7f173c974d30>]"
      ]
     },
     "execution_count": 21,
     "metadata": {},
     "output_type": "execute_result"
    },
    {
     "data": {
      "image/png": "[encoded data removed]",
      "text/plain": [
       "<Figure size 432x288 with 1 Axes>"
      ]
     },
     "metadata": {
      "needs_background": "light"
     },
     "output_type": "display_data"
    }
   ],
   "source": [
    "plt.plot(Q_table)"
   ]
  }
 ],
 "metadata": {
  "kernelspec": {
   "display_name": "Python 3 (ipykernel)",
   "language": "python",
   "name": "python3"
  },
  "language_info": {
   "codemirror_mode": {
    "name": "ipython",
    "version": 3
   },
   "file_extension": ".py",
   "mimetype": "text/x-python",
   "name": "python",
   "nbconvert_exporter": "python",
   "pygments_lexer": "ipython3",
   "version": "3.9.9"
  }
 },
 "nbformat": 4,
 "nbformat_minor": 5
}
